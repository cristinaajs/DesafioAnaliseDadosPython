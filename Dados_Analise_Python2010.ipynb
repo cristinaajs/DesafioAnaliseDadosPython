{
 "cells": [
  {
   "cell_type": "code",
   "execution_count": 1,
   "metadata": {},
   "outputs": [
    {
     "name": "stdout",
     "output_type": "stream",
     "text": [
      "Requirement already satisfied: pandas in c:\\users\\cristina\\appdata\\local\\programs\\python\\python312\\lib\\site-packages (2.2.2)Note: you may need to restart the kernel to use updated packages.\n",
      "\n",
      "Requirement already satisfied: numpy>=1.26.0 in c:\\users\\cristina\\appdata\\local\\programs\\python\\python312\\lib\\site-packages (from pandas) (2.1.0)\n",
      "Requirement already satisfied: python-dateutil>=2.8.2 in c:\\users\\cristina\\appdata\\roaming\\python\\python312\\site-packages (from pandas) (2.9.0.post0)\n",
      "Requirement already satisfied: pytz>=2020.1 in c:\\users\\cristina\\appdata\\local\\programs\\python\\python312\\lib\\site-packages (from pandas) (2024.1)\n",
      "Requirement already satisfied: tzdata>=2022.7 in c:\\users\\cristina\\appdata\\local\\programs\\python\\python312\\lib\\site-packages (from pandas) (2024.1)\n",
      "Requirement already satisfied: six>=1.5 in c:\\users\\cristina\\appdata\\roaming\\python\\python312\\site-packages (from python-dateutil>=2.8.2->pandas) (1.16.0)\n"
     ]
    },
    {
     "name": "stderr",
     "output_type": "stream",
     "text": [
      "\n",
      "[notice] A new release of pip is available: 24.0 -> 24.2\n",
      "[notice] To update, run: python.exe -m pip install --upgrade pip\n"
     ]
    }
   ],
   "source": [
    "pip install pandas"
   ]
  },
  {
   "cell_type": "code",
   "execution_count": 2,
   "metadata": {},
   "outputs": [],
   "source": [
    "import pandas as pd"
   ]
  },
  {
   "cell_type": "code",
   "execution_count": 3,
   "metadata": {},
   "outputs": [
    {
     "name": "stdout",
     "output_type": "stream",
     "text": [
      "       ANO_CONCESSAO_BOLSA;CODIGO_EMEC_IES_BOLSA;NOME_IES_BOLSA;TIPO_BOLSA;MODALIDADE_ENSINO_BOLSA;NOME_CURSO_BOLSA;NOME_TURNO_CURSO_BOLSA;CPF_BENEFICIARIO_BOLSA;SEXO_BENEFICIARIO_BOLSA;RACA_BENEFICIARIO_BOLSA;DT_NASCIMENTO_BENEFICIARIO;BENEFICIARIO_DEFICIENTE_FISICO;REGIAO_BENEFICIARIO_BOLSA;SIGLA_UF_BENEFICIARIO_BOLSA;MUNICIPIO_BENEFICIARIO_BOLSA\n",
      "0       2010;20;UNIVERSIDADE DE PASSO FUNDO;BOLSA PARC...                                                                                                                                                                                                                                                                                                     \n",
      "1       2010;20;UNIVERSIDADE DE PASSO FUNDO;BOLSA PARC...                                                                                                                                                                                                                                                                                                     \n",
      "2       2010;20;UNIVERSIDADE DE PASSO FUNDO;BOLSA PARC...                                                                                                                                                                                                                                                                                                     \n",
      "3       2010;20;UNIVERSIDADE DE PASSO FUNDO;BOLSA INTE...                                                                                                                                                                                                                                                                                                     \n",
      "4       2010;423;UNIVERSIDADE REGIONAL INTEGRADA DO AL...                                                                                                                                                                                                                                                                                                     \n",
      "...                                                   ...                                                                                                                                                                                                                                                                                                     \n",
      "152728  2010;1472;CENTRO UNIVERSITï¿½RIO LEONARDO DA V...                                                                                                                                                                                                                                                                                                     \n",
      "152729  2010;1472;CENTRO UNIVERSITï¿½RIO LEONARDO DA V...                                                                                                                                                                                                                                                                                                     \n",
      "152730  2010;1472;CENTRO UNIVERSITï¿½RIO LEONARDO DA V...                                                                                                                                                                                                                                                                                                     \n",
      "152731  2010;1196;CENTRO UNIVERSITï¿½RIO DE MARINGï¿½ ...                                                                                                                                                                                                                                                                                                     \n",
      "152732  2010;338;PONTIFï¿½CIA UNIVERSIDADE CATï¿½LICA ...                                                                                                                                                                                                                                                                                                     \n",
      "\n",
      "[152733 rows x 1 columns]\n"
     ]
    }
   ],
   "source": [
    "df = pd.read_csv('pda-prouni-2010.csv', encoding='latin1')\n",
    "print(df)"
   ]
  },
  {
   "cell_type": "code",
   "execution_count": 4,
   "metadata": {},
   "outputs": [
    {
     "name": "stdout",
     "output_type": "stream",
     "text": [
      "  ANO_CONCESSAO_BOLSA;CODIGO_EMEC_IES_BOLSA;NOME_IES_BOLSA;TIPO_BOLSA;MODALIDADE_ENSINO_BOLSA;NOME_CURSO_BOLSA;NOME_TURNO_CURSO_BOLSA;CPF_BENEFICIARIO_BOLSA;SEXO_BENEFICIARIO_BOLSA;RACA_BENEFICIARIO_BOLSA;DT_NASCIMENTO_BENEFICIARIO;BENEFICIARIO_DEFICIENTE_FISICO;REGIAO_BENEFICIARIO_BOLSA;SIGLA_UF_BENEFICIARIO_BOLSA;MUNICIPIO_BENEFICIARIO_BOLSA\n",
      "0  2010;20;UNIVERSIDADE DE PASSO FUNDO;BOLSA PARC...                                                                                                                                                                                                                                                                                                     \n",
      "1  2010;20;UNIVERSIDADE DE PASSO FUNDO;BOLSA PARC...                                                                                                                                                                                                                                                                                                     \n",
      "2  2010;20;UNIVERSIDADE DE PASSO FUNDO;BOLSA PARC...                                                                                                                                                                                                                                                                                                     \n",
      "3  2010;20;UNIVERSIDADE DE PASSO FUNDO;BOLSA INTE...                                                                                                                                                                                                                                                                                                     \n",
      "4  2010;423;UNIVERSIDADE REGIONAL INTEGRADA DO AL...                                                                                                                                                                                                                                                                                                     \n"
     ]
    }
   ],
   "source": [
    "df = pd.read_csv('pda-prouni-2010.csv')\n",
    "print(df.head())"
   ]
  },
  {
   "cell_type": "code",
   "execution_count": 5,
   "metadata": {},
   "outputs": [
    {
     "name": "stdout",
     "output_type": "stream",
     "text": [
      "Empty DataFrame\n",
      "Columns: [ANO_CONCESSAO_BOLSA;CODIGO_EMEC_IES_BOLSA;NOME_IES_BOLSA;TIPO_BOLSA;MODALIDADE_ENSINO_BOLSA;NOME_CURSO_BOLSA;NOME_TURNO_CURSO_BOLSA;CPF_BENEFICIARIO_BOLSA;SEXO_BENEFICIARIO_BOLSA;RACA_BENEFICIARIO_BOLSA;DT_NASCIMENTO_BENEFICIARIO;BENEFICIARIO_DEFICIENTE_FISICO;REGIAO_BENEFICIARIO_BOLSA;SIGLA_UF_BENEFICIARIO_BOLSA;MUNICIPIO_BENEFICIARIO_BOLSA]\n",
      "Index: []\n"
     ]
    }
   ],
   "source": [
    "pd.set_option('display.max_colwidth', None)\n",
    "print(df.head(0))"
   ]
  },
  {
   "cell_type": "code",
   "execution_count": 6,
   "metadata": {},
   "outputs": [
    {
     "name": "stdout",
     "output_type": "stream",
     "text": [
      "                                                                                                                                                                                                                                                                                                                                                     index  \\\n",
      "0  ANO_CONCESSAO_BOLSA;CODIGO_EMEC_IES_BOLSA;NOME_IES_BOLSA;TIPO_BOLSA;MODALIDADE_ENSINO_BOLSA;NOME_CURSO_BOLSA;NOME_TURNO_CURSO_BOLSA;CPF_BENEFICIARIO_BOLSA;SEXO_BENEFICIARIO_BOLSA;RACA_BENEFICIARIO_BOLSA;DT_NASCIMENTO_BENEFICIARIO;BENEFICIARIO_DEFICIENTE_FISICO;REGIAO_BENEFICIARIO_BOLSA;SIGLA_UF_BENEFICIARIO_BOLSA;MUNICIPIO_BENEFICIARIO_BOLSA   \n",
      "\n",
      "                                                                                                                                                                0  \n",
      "0  2010;20;UNIVERSIDADE DE PASSO FUNDO;BOLSA PARCIAL 50%;PRESENCIAL;Administra��o;Noturno;***819700**;Masculino;Branca;16-04-1979;N�O;SUL;RS;PALMEIRA DAS MISS�ES  \n"
     ]
    }
   ],
   "source": [
    "linha_especifica = df.iloc[0]\n",
    "print(linha_especifica.to_frame().reset_index())"
   ]
  },
  {
   "cell_type": "code",
   "execution_count": 7,
   "metadata": {},
   "outputs": [
    {
     "ename": "ParserError",
     "evalue": "Error tokenizing data. C error: Expected 15 fields in line 5810, saw 16\n",
     "output_type": "error",
     "traceback": [
      "\u001b[1;31m---------------------------------------------------------------------------\u001b[0m",
      "\u001b[1;31mParserError\u001b[0m                               Traceback (most recent call last)",
      "Cell \u001b[1;32mIn[7], line 1\u001b[0m\n\u001b[1;32m----> 1\u001b[0m df \u001b[38;5;241m=\u001b[39m \u001b[43mpd\u001b[49m\u001b[38;5;241;43m.\u001b[39;49m\u001b[43mread_csv\u001b[49m\u001b[43m(\u001b[49m\u001b[38;5;124;43m'\u001b[39;49m\u001b[38;5;124;43mpda-prouni-2010.csv\u001b[39;49m\u001b[38;5;124;43m'\u001b[39;49m\u001b[43m,\u001b[49m\u001b[43m \u001b[49m\u001b[43mencoding\u001b[49m\u001b[38;5;241;43m=\u001b[39;49m\u001b[38;5;124;43m'\u001b[39;49m\u001b[38;5;124;43mlatin1\u001b[39;49m\u001b[38;5;124;43m'\u001b[39;49m\u001b[43m,\u001b[49m\u001b[43m \u001b[49m\u001b[43msep\u001b[49m\u001b[38;5;241;43m=\u001b[39;49m\u001b[38;5;124;43m'\u001b[39;49m\u001b[38;5;124;43m;\u001b[39;49m\u001b[38;5;124;43m'\u001b[39;49m\u001b[43m)\u001b[49m\n\u001b[0;32m      2\u001b[0m \u001b[38;5;28mprint\u001b[39m(df\u001b[38;5;241m.\u001b[39mhead())\n",
      "File \u001b[1;32mc:\\Users\\Cristina\\AppData\\Local\\Programs\\Python\\Python312\\Lib\\site-packages\\pandas\\io\\parsers\\readers.py:1026\u001b[0m, in \u001b[0;36mread_csv\u001b[1;34m(filepath_or_buffer, sep, delimiter, header, names, index_col, usecols, dtype, engine, converters, true_values, false_values, skipinitialspace, skiprows, skipfooter, nrows, na_values, keep_default_na, na_filter, verbose, skip_blank_lines, parse_dates, infer_datetime_format, keep_date_col, date_parser, date_format, dayfirst, cache_dates, iterator, chunksize, compression, thousands, decimal, lineterminator, quotechar, quoting, doublequote, escapechar, comment, encoding, encoding_errors, dialect, on_bad_lines, delim_whitespace, low_memory, memory_map, float_precision, storage_options, dtype_backend)\u001b[0m\n\u001b[0;32m   1013\u001b[0m kwds_defaults \u001b[38;5;241m=\u001b[39m _refine_defaults_read(\n\u001b[0;32m   1014\u001b[0m     dialect,\n\u001b[0;32m   1015\u001b[0m     delimiter,\n\u001b[1;32m   (...)\u001b[0m\n\u001b[0;32m   1022\u001b[0m     dtype_backend\u001b[38;5;241m=\u001b[39mdtype_backend,\n\u001b[0;32m   1023\u001b[0m )\n\u001b[0;32m   1024\u001b[0m kwds\u001b[38;5;241m.\u001b[39mupdate(kwds_defaults)\n\u001b[1;32m-> 1026\u001b[0m \u001b[38;5;28;01mreturn\u001b[39;00m \u001b[43m_read\u001b[49m\u001b[43m(\u001b[49m\u001b[43mfilepath_or_buffer\u001b[49m\u001b[43m,\u001b[49m\u001b[43m \u001b[49m\u001b[43mkwds\u001b[49m\u001b[43m)\u001b[49m\n",
      "File \u001b[1;32mc:\\Users\\Cristina\\AppData\\Local\\Programs\\Python\\Python312\\Lib\\site-packages\\pandas\\io\\parsers\\readers.py:626\u001b[0m, in \u001b[0;36m_read\u001b[1;34m(filepath_or_buffer, kwds)\u001b[0m\n\u001b[0;32m    623\u001b[0m     \u001b[38;5;28;01mreturn\u001b[39;00m parser\n\u001b[0;32m    625\u001b[0m \u001b[38;5;28;01mwith\u001b[39;00m parser:\n\u001b[1;32m--> 626\u001b[0m     \u001b[38;5;28;01mreturn\u001b[39;00m \u001b[43mparser\u001b[49m\u001b[38;5;241;43m.\u001b[39;49m\u001b[43mread\u001b[49m\u001b[43m(\u001b[49m\u001b[43mnrows\u001b[49m\u001b[43m)\u001b[49m\n",
      "File \u001b[1;32mc:\\Users\\Cristina\\AppData\\Local\\Programs\\Python\\Python312\\Lib\\site-packages\\pandas\\io\\parsers\\readers.py:1923\u001b[0m, in \u001b[0;36mTextFileReader.read\u001b[1;34m(self, nrows)\u001b[0m\n\u001b[0;32m   1916\u001b[0m nrows \u001b[38;5;241m=\u001b[39m validate_integer(\u001b[38;5;124m\"\u001b[39m\u001b[38;5;124mnrows\u001b[39m\u001b[38;5;124m\"\u001b[39m, nrows)\n\u001b[0;32m   1917\u001b[0m \u001b[38;5;28;01mtry\u001b[39;00m:\n\u001b[0;32m   1918\u001b[0m     \u001b[38;5;66;03m# error: \"ParserBase\" has no attribute \"read\"\u001b[39;00m\n\u001b[0;32m   1919\u001b[0m     (\n\u001b[0;32m   1920\u001b[0m         index,\n\u001b[0;32m   1921\u001b[0m         columns,\n\u001b[0;32m   1922\u001b[0m         col_dict,\n\u001b[1;32m-> 1923\u001b[0m     ) \u001b[38;5;241m=\u001b[39m \u001b[38;5;28;43mself\u001b[39;49m\u001b[38;5;241;43m.\u001b[39;49m\u001b[43m_engine\u001b[49m\u001b[38;5;241;43m.\u001b[39;49m\u001b[43mread\u001b[49m\u001b[43m(\u001b[49m\u001b[43m  \u001b[49m\u001b[38;5;66;43;03m# type: ignore[attr-defined]\u001b[39;49;00m\n\u001b[0;32m   1924\u001b[0m \u001b[43m        \u001b[49m\u001b[43mnrows\u001b[49m\n\u001b[0;32m   1925\u001b[0m \u001b[43m    \u001b[49m\u001b[43m)\u001b[49m\n\u001b[0;32m   1926\u001b[0m \u001b[38;5;28;01mexcept\u001b[39;00m \u001b[38;5;167;01mException\u001b[39;00m:\n\u001b[0;32m   1927\u001b[0m     \u001b[38;5;28mself\u001b[39m\u001b[38;5;241m.\u001b[39mclose()\n",
      "File \u001b[1;32mc:\\Users\\Cristina\\AppData\\Local\\Programs\\Python\\Python312\\Lib\\site-packages\\pandas\\io\\parsers\\c_parser_wrapper.py:234\u001b[0m, in \u001b[0;36mCParserWrapper.read\u001b[1;34m(self, nrows)\u001b[0m\n\u001b[0;32m    232\u001b[0m \u001b[38;5;28;01mtry\u001b[39;00m:\n\u001b[0;32m    233\u001b[0m     \u001b[38;5;28;01mif\u001b[39;00m \u001b[38;5;28mself\u001b[39m\u001b[38;5;241m.\u001b[39mlow_memory:\n\u001b[1;32m--> 234\u001b[0m         chunks \u001b[38;5;241m=\u001b[39m \u001b[38;5;28;43mself\u001b[39;49m\u001b[38;5;241;43m.\u001b[39;49m\u001b[43m_reader\u001b[49m\u001b[38;5;241;43m.\u001b[39;49m\u001b[43mread_low_memory\u001b[49m\u001b[43m(\u001b[49m\u001b[43mnrows\u001b[49m\u001b[43m)\u001b[49m\n\u001b[0;32m    235\u001b[0m         \u001b[38;5;66;03m# destructive to chunks\u001b[39;00m\n\u001b[0;32m    236\u001b[0m         data \u001b[38;5;241m=\u001b[39m _concatenate_chunks(chunks)\n",
      "File \u001b[1;32mparsers.pyx:838\u001b[0m, in \u001b[0;36mpandas._libs.parsers.TextReader.read_low_memory\u001b[1;34m()\u001b[0m\n",
      "File \u001b[1;32mparsers.pyx:905\u001b[0m, in \u001b[0;36mpandas._libs.parsers.TextReader._read_rows\u001b[1;34m()\u001b[0m\n",
      "File \u001b[1;32mparsers.pyx:874\u001b[0m, in \u001b[0;36mpandas._libs.parsers.TextReader._tokenize_rows\u001b[1;34m()\u001b[0m\n",
      "File \u001b[1;32mparsers.pyx:891\u001b[0m, in \u001b[0;36mpandas._libs.parsers.TextReader._check_tokenize_status\u001b[1;34m()\u001b[0m\n",
      "File \u001b[1;32mparsers.pyx:2061\u001b[0m, in \u001b[0;36mpandas._libs.parsers.raise_parser_error\u001b[1;34m()\u001b[0m\n",
      "\u001b[1;31mParserError\u001b[0m: Error tokenizing data. C error: Expected 15 fields in line 5810, saw 16\n"
     ]
    }
   ],
   "source": [
    "df = pd.read_csv('pda-prouni-2010.csv', encoding='latin1', sep=';')\n",
    "print(df.head())"
   ]
  }
 ],
 "metadata": {
  "kernelspec": {
   "display_name": "Python 3",
   "language": "python",
   "name": "python3"
  },
  "language_info": {
   "codemirror_mode": {
    "name": "ipython",
    "version": 3
   },
   "file_extension": ".py",
   "mimetype": "text/x-python",
   "name": "python",
   "nbconvert_exporter": "python",
   "pygments_lexer": "ipython3",
   "version": "3.12.4"
  }
 },
 "nbformat": 4,
 "nbformat_minor": 2
}
