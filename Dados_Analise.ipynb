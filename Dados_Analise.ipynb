{
 "cells": [
  {
   "cell_type": "code",
   "execution_count": 1,
   "metadata": {},
   "outputs": [
    {
     "name": "stdout",
     "output_type": "stream",
     "text": [
      "Requirement already satisfied: pandas in c:\\users\\cristina\\appdata\\local\\programs\\python\\python312\\lib\\site-packages (2.2.2)\n",
      "Requirement already satisfied: numpy>=1.26.0 in c:\\users\\cristina\\appdata\\local\\programs\\python\\python312\\lib\\site-packages (from pandas) (2.1.0)\n",
      "Requirement already satisfied: python-dateutil>=2.8.2 in c:\\users\\cristina\\appdata\\roaming\\python\\python312\\site-packages (from pandas) (2.9.0.post0)\n",
      "Requirement already satisfied: pytz>=2020.1 in c:\\users\\cristina\\appdata\\local\\programs\\python\\python312\\lib\\site-packages (from pandas) (2024.1)\n",
      "Requirement already satisfied: tzdata>=2022.7 in c:\\users\\cristina\\appdata\\local\\programs\\python\\python312\\lib\\site-packages (from pandas) (2024.1)\n",
      "Requirement already satisfied: six>=1.5 in c:\\users\\cristina\\appdata\\roaming\\python\\python312\\site-packages (from python-dateutil>=2.8.2->pandas) (1.16.0)\n",
      "Note: you may need to restart the kernel to use updated packages.\n"
     ]
    },
    {
     "name": "stderr",
     "output_type": "stream",
     "text": [
      "\n",
      "[notice] A new release of pip is available: 24.0 -> 24.2\n",
      "[notice] To update, run: python.exe -m pip install --upgrade pip\n"
     ]
    }
   ],
   "source": [
    "pip install pandas"
   ]
  },
  {
   "cell_type": "code",
   "execution_count": 2,
   "metadata": {},
   "outputs": [],
   "source": [
    "import matplotlib.pyplot as plt"
   ]
  },
  {
   "cell_type": "code",
   "execution_count": 3,
   "metadata": {},
   "outputs": [
    {
     "name": "stdout",
     "output_type": "stream",
     "text": [
      "Requirement already satisfied: seaborn in c:\\users\\cristina\\appdata\\local\\programs\\python\\python312\\lib\\site-packages (0.13.2)\n",
      "Requirement already satisfied: numpy!=1.24.0,>=1.20 in c:\\users\\cristina\\appdata\\local\\programs\\python\\python312\\lib\\site-packages (from seaborn) (2.1.0)\n",
      "Requirement already satisfied: pandas>=1.2 in c:\\users\\cristina\\appdata\\local\\programs\\python\\python312\\lib\\site-packages (from seaborn) (2.2.2)\n",
      "Requirement already satisfied: matplotlib!=3.6.1,>=3.4 in c:\\users\\cristina\\appdata\\local\\programs\\python\\python312\\lib\\site-packages (from seaborn) (3.9.2)\n",
      "Requirement already satisfied: contourpy>=1.0.1 in c:\\users\\cristina\\appdata\\local\\programs\\python\\python312\\lib\\site-packages (from matplotlib!=3.6.1,>=3.4->seaborn) (1.2.1)\n",
      "Requirement already satisfied: cycler>=0.10 in c:\\users\\cristina\\appdata\\local\\programs\\python\\python312\\lib\\site-packages (from matplotlib!=3.6.1,>=3.4->seaborn) (0.12.1)\n",
      "Requirement already satisfied: fonttools>=4.22.0 in c:\\users\\cristina\\appdata\\local\\programs\\python\\python312\\lib\\site-packages (from matplotlib!=3.6.1,>=3.4->seaborn) (4.53.1)\n",
      "Requirement already satisfied: kiwisolver>=1.3.1 in c:\\users\\cristina\\appdata\\local\\programs\\python\\python312\\lib\\site-packages (from matplotlib!=3.6.1,>=3.4->seaborn) (1.4.5)\n",
      "Requirement already satisfied: packaging>=20.0 in c:\\users\\cristina\\appdata\\roaming\\python\\python312\\site-packages (from matplotlib!=3.6.1,>=3.4->seaborn) (24.1)\n",
      "Requirement already satisfied: pillow>=8 in c:\\users\\cristina\\appdata\\local\\programs\\python\\python312\\lib\\site-packages (from matplotlib!=3.6.1,>=3.4->seaborn) (10.4.0)\n",
      "Requirement already satisfied: pyparsing>=2.3.1 in c:\\users\\cristina\\appdata\\local\\programs\\python\\python312\\lib\\site-packages (from matplotlib!=3.6.1,>=3.4->seaborn) (3.1.2)\n",
      "Requirement already satisfied: python-dateutil>=2.7 in c:\\users\\cristina\\appdata\\roaming\\python\\python312\\site-packages (from matplotlib!=3.6.1,>=3.4->seaborn) (2.9.0.post0)\n",
      "Requirement already satisfied: pytz>=2020.1 in c:\\users\\cristina\\appdata\\local\\programs\\python\\python312\\lib\\site-packages (from pandas>=1.2->seaborn) (2024.1)\n",
      "Requirement already satisfied: tzdata>=2022.7 in c:\\users\\cristina\\appdata\\local\\programs\\python\\python312\\lib\\site-packages (from pandas>=1.2->seaborn) (2024.1)\n",
      "Requirement already satisfied: six>=1.5 in c:\\users\\cristina\\appdata\\roaming\\python\\python312\\site-packages (from python-dateutil>=2.7->matplotlib!=3.6.1,>=3.4->seaborn) (1.16.0)\n",
      "Note: you may need to restart the kernel to use updated packages.\n"
     ]
    },
    {
     "name": "stderr",
     "output_type": "stream",
     "text": [
      "\n",
      "[notice] A new release of pip is available: 24.0 -> 24.2\n",
      "[notice] To update, run: python.exe -m pip install --upgrade pip\n"
     ]
    }
   ],
   "source": [
    "pip install seaborn"
   ]
  },
  {
   "cell_type": "code",
   "execution_count": 4,
   "metadata": {},
   "outputs": [],
   "source": [
    "import seaborn as sns"
   ]
  },
  {
   "cell_type": "code",
   "execution_count": 5,
   "metadata": {},
   "outputs": [],
   "source": [
    "import pandas as pd"
   ]
  },
  {
   "cell_type": "code",
   "execution_count": 6,
   "metadata": {},
   "outputs": [
    {
     "ename": "ParserError",
     "evalue": "Error tokenizing data. C error: Expected 1 fields in line 2387, saw 2\n",
     "output_type": "error",
     "traceback": [
      "\u001b[1;31m---------------------------------------------------------------------------\u001b[0m",
      "\u001b[1;31mParserError\u001b[0m                               Traceback (most recent call last)",
      "Cell \u001b[1;32mIn[6], line 1\u001b[0m\n\u001b[1;32m----> 1\u001b[0m df \u001b[38;5;241m=\u001b[39m \u001b[43mpd\u001b[49m\u001b[38;5;241;43m.\u001b[39;49m\u001b[43mread_csv\u001b[49m\u001b[43m(\u001b[49m\u001b[38;5;124;43m'\u001b[39;49m\u001b[38;5;124;43mProuniRelatorioDadosAbertos2020.csv\u001b[39;49m\u001b[38;5;124;43m'\u001b[39;49m\u001b[43m,\u001b[49m\u001b[43m \u001b[49m\u001b[43mencoding\u001b[49m\u001b[38;5;241;43m=\u001b[39;49m\u001b[38;5;124;43m'\u001b[39;49m\u001b[38;5;124;43mlatin1\u001b[39;49m\u001b[38;5;124;43m'\u001b[39;49m\u001b[43m)\u001b[49m\n\u001b[0;32m      2\u001b[0m \u001b[38;5;28mprint\u001b[39m(df\u001b[38;5;241m.\u001b[39mhead())\n",
      "File \u001b[1;32mc:\\Users\\Cristina\\AppData\\Local\\Programs\\Python\\Python312\\Lib\\site-packages\\pandas\\io\\parsers\\readers.py:1026\u001b[0m, in \u001b[0;36mread_csv\u001b[1;34m(filepath_or_buffer, sep, delimiter, header, names, index_col, usecols, dtype, engine, converters, true_values, false_values, skipinitialspace, skiprows, skipfooter, nrows, na_values, keep_default_na, na_filter, verbose, skip_blank_lines, parse_dates, infer_datetime_format, keep_date_col, date_parser, date_format, dayfirst, cache_dates, iterator, chunksize, compression, thousands, decimal, lineterminator, quotechar, quoting, doublequote, escapechar, comment, encoding, encoding_errors, dialect, on_bad_lines, delim_whitespace, low_memory, memory_map, float_precision, storage_options, dtype_backend)\u001b[0m\n\u001b[0;32m   1013\u001b[0m kwds_defaults \u001b[38;5;241m=\u001b[39m _refine_defaults_read(\n\u001b[0;32m   1014\u001b[0m     dialect,\n\u001b[0;32m   1015\u001b[0m     delimiter,\n\u001b[1;32m   (...)\u001b[0m\n\u001b[0;32m   1022\u001b[0m     dtype_backend\u001b[38;5;241m=\u001b[39mdtype_backend,\n\u001b[0;32m   1023\u001b[0m )\n\u001b[0;32m   1024\u001b[0m kwds\u001b[38;5;241m.\u001b[39mupdate(kwds_defaults)\n\u001b[1;32m-> 1026\u001b[0m \u001b[38;5;28;01mreturn\u001b[39;00m \u001b[43m_read\u001b[49m\u001b[43m(\u001b[49m\u001b[43mfilepath_or_buffer\u001b[49m\u001b[43m,\u001b[49m\u001b[43m \u001b[49m\u001b[43mkwds\u001b[49m\u001b[43m)\u001b[49m\n",
      "File \u001b[1;32mc:\\Users\\Cristina\\AppData\\Local\\Programs\\Python\\Python312\\Lib\\site-packages\\pandas\\io\\parsers\\readers.py:626\u001b[0m, in \u001b[0;36m_read\u001b[1;34m(filepath_or_buffer, kwds)\u001b[0m\n\u001b[0;32m    623\u001b[0m     \u001b[38;5;28;01mreturn\u001b[39;00m parser\n\u001b[0;32m    625\u001b[0m \u001b[38;5;28;01mwith\u001b[39;00m parser:\n\u001b[1;32m--> 626\u001b[0m     \u001b[38;5;28;01mreturn\u001b[39;00m \u001b[43mparser\u001b[49m\u001b[38;5;241;43m.\u001b[39;49m\u001b[43mread\u001b[49m\u001b[43m(\u001b[49m\u001b[43mnrows\u001b[49m\u001b[43m)\u001b[49m\n",
      "File \u001b[1;32mc:\\Users\\Cristina\\AppData\\Local\\Programs\\Python\\Python312\\Lib\\site-packages\\pandas\\io\\parsers\\readers.py:1923\u001b[0m, in \u001b[0;36mTextFileReader.read\u001b[1;34m(self, nrows)\u001b[0m\n\u001b[0;32m   1916\u001b[0m nrows \u001b[38;5;241m=\u001b[39m validate_integer(\u001b[38;5;124m\"\u001b[39m\u001b[38;5;124mnrows\u001b[39m\u001b[38;5;124m\"\u001b[39m, nrows)\n\u001b[0;32m   1917\u001b[0m \u001b[38;5;28;01mtry\u001b[39;00m:\n\u001b[0;32m   1918\u001b[0m     \u001b[38;5;66;03m# error: \"ParserBase\" has no attribute \"read\"\u001b[39;00m\n\u001b[0;32m   1919\u001b[0m     (\n\u001b[0;32m   1920\u001b[0m         index,\n\u001b[0;32m   1921\u001b[0m         columns,\n\u001b[0;32m   1922\u001b[0m         col_dict,\n\u001b[1;32m-> 1923\u001b[0m     ) \u001b[38;5;241m=\u001b[39m \u001b[38;5;28;43mself\u001b[39;49m\u001b[38;5;241;43m.\u001b[39;49m\u001b[43m_engine\u001b[49m\u001b[38;5;241;43m.\u001b[39;49m\u001b[43mread\u001b[49m\u001b[43m(\u001b[49m\u001b[43m  \u001b[49m\u001b[38;5;66;43;03m# type: ignore[attr-defined]\u001b[39;49;00m\n\u001b[0;32m   1924\u001b[0m \u001b[43m        \u001b[49m\u001b[43mnrows\u001b[49m\n\u001b[0;32m   1925\u001b[0m \u001b[43m    \u001b[49m\u001b[43m)\u001b[49m\n\u001b[0;32m   1926\u001b[0m \u001b[38;5;28;01mexcept\u001b[39;00m \u001b[38;5;167;01mException\u001b[39;00m:\n\u001b[0;32m   1927\u001b[0m     \u001b[38;5;28mself\u001b[39m\u001b[38;5;241m.\u001b[39mclose()\n",
      "File \u001b[1;32mc:\\Users\\Cristina\\AppData\\Local\\Programs\\Python\\Python312\\Lib\\site-packages\\pandas\\io\\parsers\\c_parser_wrapper.py:234\u001b[0m, in \u001b[0;36mCParserWrapper.read\u001b[1;34m(self, nrows)\u001b[0m\n\u001b[0;32m    232\u001b[0m \u001b[38;5;28;01mtry\u001b[39;00m:\n\u001b[0;32m    233\u001b[0m     \u001b[38;5;28;01mif\u001b[39;00m \u001b[38;5;28mself\u001b[39m\u001b[38;5;241m.\u001b[39mlow_memory:\n\u001b[1;32m--> 234\u001b[0m         chunks \u001b[38;5;241m=\u001b[39m \u001b[38;5;28;43mself\u001b[39;49m\u001b[38;5;241;43m.\u001b[39;49m\u001b[43m_reader\u001b[49m\u001b[38;5;241;43m.\u001b[39;49m\u001b[43mread_low_memory\u001b[49m\u001b[43m(\u001b[49m\u001b[43mnrows\u001b[49m\u001b[43m)\u001b[49m\n\u001b[0;32m    235\u001b[0m         \u001b[38;5;66;03m# destructive to chunks\u001b[39;00m\n\u001b[0;32m    236\u001b[0m         data \u001b[38;5;241m=\u001b[39m _concatenate_chunks(chunks)\n",
      "File \u001b[1;32mparsers.pyx:838\u001b[0m, in \u001b[0;36mpandas._libs.parsers.TextReader.read_low_memory\u001b[1;34m()\u001b[0m\n",
      "File \u001b[1;32mparsers.pyx:905\u001b[0m, in \u001b[0;36mpandas._libs.parsers.TextReader._read_rows\u001b[1;34m()\u001b[0m\n",
      "File \u001b[1;32mparsers.pyx:874\u001b[0m, in \u001b[0;36mpandas._libs.parsers.TextReader._tokenize_rows\u001b[1;34m()\u001b[0m\n",
      "File \u001b[1;32mparsers.pyx:891\u001b[0m, in \u001b[0;36mpandas._libs.parsers.TextReader._check_tokenize_status\u001b[1;34m()\u001b[0m\n",
      "File \u001b[1;32mparsers.pyx:2061\u001b[0m, in \u001b[0;36mpandas._libs.parsers.raise_parser_error\u001b[1;34m()\u001b[0m\n",
      "\u001b[1;31mParserError\u001b[0m: Error tokenizing data. C error: Expected 1 fields in line 2387, saw 2\n"
     ]
    }
   ],
   "source": [
    "df = pd.read_csv('ProuniRelatorioDadosAbertos2020.csv', encoding='latin1')\n",
    "print(df.head())"
   ]
  },
  {
   "cell_type": "code",
   "execution_count": null,
   "metadata": {},
   "outputs": [
    {
     "name": "stdout",
     "output_type": "stream",
     "text": [
      "  ANO_CONCESSAO_BOLSA;CODIGO_EMEC_IES_BOLSA;NOME_IES_BOLSA;MUNICIPIO;CAMPUS;TIPO_BOLSA;MODALIDADE_ENSINO_BOLSA;NOME_CURSO_BOLSA;NOME_TURNO_CURSO_BOLSA;CPF_BENEFICIARIO;SEXO_BENEFICIARIO;RACA_BENEFICIARIO;DATA_NASCIMENTO;BENEFICIARIO_DEFICIENTE_FISICO;REGIAO_BENEFICIARIO;UF_BENEFICIARIO;MUNICIPIO_BENEFICIARIO\n",
      "0  2020;322;UNIVERSIDADE PAULISTA;IPATINGA;IPATIN...                                                                                                                                                                                                                                                                 \n",
      "1  2020;163;UNIVERSIDADE EST�CIO DE S�;FORTALEZA;...                                                                                                                                                                                                                                                                 \n",
      "2  2020;17670;FACULDADE DE QUIXERAMOBIM;QUIXERAMO...                                                                                                                                                                                                                                                                 \n",
      "3  2020;203;UNIVERSIDADE S�O JUDAS TADEU;SAO PAUL...                                                                                                                                                                                                                                                                 \n",
      "4  2020;203;UNIVERSIDADE S�O JUDAS TADEU;SAO PAUL...                                                                                                                                                                                                                                                                 \n"
     ]
    }
   ],
   "source": [
    "df = pd.read_csv('ProuniRelatorioDadosAbertos2020.csv', delimiter=',', encoding='utf-8')\n",
    "print(df.head())\n"
   ]
  },
  {
   "cell_type": "code",
   "execution_count": null,
   "metadata": {},
   "outputs": [
    {
     "name": "stdout",
     "output_type": "stream",
     "text": [
      "Empty DataFrame\n",
      "Columns: [ANO_CONCESSAO_BOLSA;CODIGO_EMEC_IES_BOLSA;NOME_IES_BOLSA;MUNICIPIO;CAMPUS;TIPO_BOLSA;MODALIDADE_ENSINO_BOLSA;NOME_CURSO_BOLSA;NOME_TURNO_CURSO_BOLSA;CPF_BENEFICIARIO;SEXO_BENEFICIARIO;RACA_BENEFICIARIO;DATA_NASCIMENTO;BENEFICIARIO_DEFICIENTE_FISICO;REGIAO_BENEFICIARIO;UF_BENEFICIARIO;MUNICIPIO_BENEFICIARIO]\n",
      "Index: []\n"
     ]
    }
   ],
   "source": [
    "pd.set_option('display.max_colwidth', None)\n",
    "print(df.head(0))"
   ]
  },
  {
   "cell_type": "code",
   "execution_count": null,
   "metadata": {},
   "outputs": [
    {
     "name": "stdout",
     "output_type": "stream",
     "text": [
      "ANO_CONCESSAO_BOLSA;CODIGO_EMEC_IES_BOLSA;NOME_IES_BOLSA;MUNICIPIO;CAMPUS;TIPO_BOLSA;MODALIDADE_ENSINO_BOLSA;NOME_CURSO_BOLSA;NOME_TURNO_CURSO_BOLSA;CPF_BENEFICIARIO;SEXO_BENEFICIARIO;RACA_BENEFICIARIO;DATA_NASCIMENTO;BENEFICIARIO_DEFICIENTE_FISICO;REGIAO_BENEFICIARIO;UF_BENEFICIARIO;MUNICIPIO_BENEFICIARIO    2020;322;UNIVERSIDADE PAULISTA;IPATINGA;IPATINGA;INTEGRAL;EAD;PEDAGOGIA;CURSO A DIST�NCIA;991.XXX.XXX-91;F;Parda;11/08/1973;N;SUDESTE;MG;GOVERNADOR VALADARES\n",
      "Name: 0, dtype: object\n"
     ]
    }
   ],
   "source": [
    "linha_especifica = df.iloc[0]\n",
    "print(linha_especifica)"
   ]
  },
  {
   "cell_type": "code",
   "execution_count": null,
   "metadata": {},
   "outputs": [
    {
     "ename": "ParserError",
     "evalue": "Error tokenizing data. C error: Expected 17 fields in line 39378, saw 18\n",
     "output_type": "error",
     "traceback": [
      "\u001b[1;31m---------------------------------------------------------------------------\u001b[0m",
      "\u001b[1;31mParserError\u001b[0m                               Traceback (most recent call last)",
      "Cell \u001b[1;32mIn[25], line 1\u001b[0m\n\u001b[1;32m----> 1\u001b[0m df \u001b[38;5;241m=\u001b[39m \u001b[43mpd\u001b[49m\u001b[38;5;241;43m.\u001b[39;49m\u001b[43mread_csv\u001b[49m\u001b[43m(\u001b[49m\u001b[38;5;124;43m'\u001b[39;49m\u001b[38;5;124;43mProuniRelatorioDadosAbertos2020.csv\u001b[39;49m\u001b[38;5;124;43m'\u001b[39;49m\u001b[43m,\u001b[49m\u001b[43m \u001b[49m\u001b[43mencoding\u001b[49m\u001b[38;5;241;43m=\u001b[39;49m\u001b[38;5;124;43m'\u001b[39;49m\u001b[38;5;124;43mlatin1\u001b[39;49m\u001b[38;5;124;43m'\u001b[39;49m\u001b[43m,\u001b[49m\u001b[43m \u001b[49m\u001b[43msep\u001b[49m\u001b[38;5;241;43m=\u001b[39;49m\u001b[38;5;124;43m'\u001b[39;49m\u001b[38;5;124;43m;\u001b[39;49m\u001b[38;5;124;43m'\u001b[39;49m\u001b[43m)\u001b[49m\n\u001b[0;32m      2\u001b[0m df_transposed \u001b[38;5;241m=\u001b[39m df\u001b[38;5;241m.\u001b[39mT\n\u001b[0;32m      3\u001b[0m \u001b[38;5;28mprint\u001b[39m(df_transposed)\n",
      "File \u001b[1;32mc:\\Users\\Cristina\\AppData\\Local\\Programs\\Python\\Python312\\Lib\\site-packages\\pandas\\io\\parsers\\readers.py:1026\u001b[0m, in \u001b[0;36mread_csv\u001b[1;34m(filepath_or_buffer, sep, delimiter, header, names, index_col, usecols, dtype, engine, converters, true_values, false_values, skipinitialspace, skiprows, skipfooter, nrows, na_values, keep_default_na, na_filter, verbose, skip_blank_lines, parse_dates, infer_datetime_format, keep_date_col, date_parser, date_format, dayfirst, cache_dates, iterator, chunksize, compression, thousands, decimal, lineterminator, quotechar, quoting, doublequote, escapechar, comment, encoding, encoding_errors, dialect, on_bad_lines, delim_whitespace, low_memory, memory_map, float_precision, storage_options, dtype_backend)\u001b[0m\n\u001b[0;32m   1013\u001b[0m kwds_defaults \u001b[38;5;241m=\u001b[39m _refine_defaults_read(\n\u001b[0;32m   1014\u001b[0m     dialect,\n\u001b[0;32m   1015\u001b[0m     delimiter,\n\u001b[1;32m   (...)\u001b[0m\n\u001b[0;32m   1022\u001b[0m     dtype_backend\u001b[38;5;241m=\u001b[39mdtype_backend,\n\u001b[0;32m   1023\u001b[0m )\n\u001b[0;32m   1024\u001b[0m kwds\u001b[38;5;241m.\u001b[39mupdate(kwds_defaults)\n\u001b[1;32m-> 1026\u001b[0m \u001b[38;5;28;01mreturn\u001b[39;00m \u001b[43m_read\u001b[49m\u001b[43m(\u001b[49m\u001b[43mfilepath_or_buffer\u001b[49m\u001b[43m,\u001b[49m\u001b[43m \u001b[49m\u001b[43mkwds\u001b[49m\u001b[43m)\u001b[49m\n",
      "File \u001b[1;32mc:\\Users\\Cristina\\AppData\\Local\\Programs\\Python\\Python312\\Lib\\site-packages\\pandas\\io\\parsers\\readers.py:626\u001b[0m, in \u001b[0;36m_read\u001b[1;34m(filepath_or_buffer, kwds)\u001b[0m\n\u001b[0;32m    623\u001b[0m     \u001b[38;5;28;01mreturn\u001b[39;00m parser\n\u001b[0;32m    625\u001b[0m \u001b[38;5;28;01mwith\u001b[39;00m parser:\n\u001b[1;32m--> 626\u001b[0m     \u001b[38;5;28;01mreturn\u001b[39;00m \u001b[43mparser\u001b[49m\u001b[38;5;241;43m.\u001b[39;49m\u001b[43mread\u001b[49m\u001b[43m(\u001b[49m\u001b[43mnrows\u001b[49m\u001b[43m)\u001b[49m\n",
      "File \u001b[1;32mc:\\Users\\Cristina\\AppData\\Local\\Programs\\Python\\Python312\\Lib\\site-packages\\pandas\\io\\parsers\\readers.py:1923\u001b[0m, in \u001b[0;36mTextFileReader.read\u001b[1;34m(self, nrows)\u001b[0m\n\u001b[0;32m   1916\u001b[0m nrows \u001b[38;5;241m=\u001b[39m validate_integer(\u001b[38;5;124m\"\u001b[39m\u001b[38;5;124mnrows\u001b[39m\u001b[38;5;124m\"\u001b[39m, nrows)\n\u001b[0;32m   1917\u001b[0m \u001b[38;5;28;01mtry\u001b[39;00m:\n\u001b[0;32m   1918\u001b[0m     \u001b[38;5;66;03m# error: \"ParserBase\" has no attribute \"read\"\u001b[39;00m\n\u001b[0;32m   1919\u001b[0m     (\n\u001b[0;32m   1920\u001b[0m         index,\n\u001b[0;32m   1921\u001b[0m         columns,\n\u001b[0;32m   1922\u001b[0m         col_dict,\n\u001b[1;32m-> 1923\u001b[0m     ) \u001b[38;5;241m=\u001b[39m \u001b[38;5;28;43mself\u001b[39;49m\u001b[38;5;241;43m.\u001b[39;49m\u001b[43m_engine\u001b[49m\u001b[38;5;241;43m.\u001b[39;49m\u001b[43mread\u001b[49m\u001b[43m(\u001b[49m\u001b[43m  \u001b[49m\u001b[38;5;66;43;03m# type: ignore[attr-defined]\u001b[39;49;00m\n\u001b[0;32m   1924\u001b[0m \u001b[43m        \u001b[49m\u001b[43mnrows\u001b[49m\n\u001b[0;32m   1925\u001b[0m \u001b[43m    \u001b[49m\u001b[43m)\u001b[49m\n\u001b[0;32m   1926\u001b[0m \u001b[38;5;28;01mexcept\u001b[39;00m \u001b[38;5;167;01mException\u001b[39;00m:\n\u001b[0;32m   1927\u001b[0m     \u001b[38;5;28mself\u001b[39m\u001b[38;5;241m.\u001b[39mclose()\n",
      "File \u001b[1;32mc:\\Users\\Cristina\\AppData\\Local\\Programs\\Python\\Python312\\Lib\\site-packages\\pandas\\io\\parsers\\c_parser_wrapper.py:234\u001b[0m, in \u001b[0;36mCParserWrapper.read\u001b[1;34m(self, nrows)\u001b[0m\n\u001b[0;32m    232\u001b[0m \u001b[38;5;28;01mtry\u001b[39;00m:\n\u001b[0;32m    233\u001b[0m     \u001b[38;5;28;01mif\u001b[39;00m \u001b[38;5;28mself\u001b[39m\u001b[38;5;241m.\u001b[39mlow_memory:\n\u001b[1;32m--> 234\u001b[0m         chunks \u001b[38;5;241m=\u001b[39m \u001b[38;5;28;43mself\u001b[39;49m\u001b[38;5;241;43m.\u001b[39;49m\u001b[43m_reader\u001b[49m\u001b[38;5;241;43m.\u001b[39;49m\u001b[43mread_low_memory\u001b[49m\u001b[43m(\u001b[49m\u001b[43mnrows\u001b[49m\u001b[43m)\u001b[49m\n\u001b[0;32m    235\u001b[0m         \u001b[38;5;66;03m# destructive to chunks\u001b[39;00m\n\u001b[0;32m    236\u001b[0m         data \u001b[38;5;241m=\u001b[39m _concatenate_chunks(chunks)\n",
      "File \u001b[1;32mparsers.pyx:838\u001b[0m, in \u001b[0;36mpandas._libs.parsers.TextReader.read_low_memory\u001b[1;34m()\u001b[0m\n",
      "File \u001b[1;32mparsers.pyx:905\u001b[0m, in \u001b[0;36mpandas._libs.parsers.TextReader._read_rows\u001b[1;34m()\u001b[0m\n",
      "File \u001b[1;32mparsers.pyx:874\u001b[0m, in \u001b[0;36mpandas._libs.parsers.TextReader._tokenize_rows\u001b[1;34m()\u001b[0m\n",
      "File \u001b[1;32mparsers.pyx:891\u001b[0m, in \u001b[0;36mpandas._libs.parsers.TextReader._check_tokenize_status\u001b[1;34m()\u001b[0m\n",
      "File \u001b[1;32mparsers.pyx:2061\u001b[0m, in \u001b[0;36mpandas._libs.parsers.raise_parser_error\u001b[1;34m()\u001b[0m\n",
      "\u001b[1;31mParserError\u001b[0m: Error tokenizing data. C error: Expected 17 fields in line 39378, saw 18\n"
     ]
    }
   ],
   "source": [
    "df = pd.read_csv('ProuniRelatorioDadosAbertos2020.csv', encoding='latin1', sep=';')\n",
    "df_transposed = df.T\n",
    "print(df_transposed)"
   ]
  },
  {
   "cell_type": "code",
   "execution_count": 54,
   "metadata": {},
   "outputs": [],
   "source": [
    "chunks = pd.read_csv('ProuniRelatorioDadosAbertos2020.csv', encoding='latin1', sep=';', chunksize=1000, on_bad_lines='skip')\n",
    "df = pd.concat(chunks, ignore_index=True)"
   ]
  },
  {
   "cell_type": "code",
   "execution_count": 55,
   "metadata": {},
   "outputs": [
    {
     "data": {
      "text/plain": [
       "Index(['ANO_CONCESSAO_BOLSA', 'CODIGO_EMEC_IES_BOLSA', 'NOME_IES_BOLSA',\n",
       "       'MUNICIPIO', 'CAMPUS', 'TIPO_BOLSA', 'MODALIDADE_ENSINO_BOLSA',\n",
       "       'NOME_CURSO_BOLSA', 'NOME_TURNO_CURSO_BOLSA', 'CPF_BENEFICIARIO',\n",
       "       'SEXO_BENEFICIARIO', 'RACA_BENEFICIARIO', 'DATA_NASCIMENTO',\n",
       "       'BENEFICIARIO_DEFICIENTE_FISICO', 'REGIAO_BENEFICIARIO',\n",
       "       'UF_BENEFICIARIO', 'MUNICIPIO_BENEFICIARIO'],\n",
       "      dtype='object')"
      ]
     },
     "execution_count": 55,
     "metadata": {},
     "output_type": "execute_result"
    }
   ],
   "source": [
    "df.columns"
   ]
  },
  {
   "cell_type": "code",
   "execution_count": 19,
   "metadata": {},
   "outputs": [
    {
     "name": "stdout",
     "output_type": "stream",
     "text": [
      "TIPO_BOLSA\n",
      "INTEGRAL        130551\n",
      "PARCIAL          35965\n",
      " INTEGRAL           47\n",
      " PARCIAL            17\n",
      " 60 OFICINAS         1\n",
      "Name: count, dtype: int64\n"
     ]
    }
   ],
   "source": [
    "Tipo_Bolsa = df['TIPO_BOLSA'].value_counts()\n",
    "print(Tipo_Bolsa)"
   ]
  },
  {
   "cell_type": "code",
   "execution_count": 21,
   "metadata": {},
   "outputs": [
    {
     "name": "stdout",
     "output_type": "stream",
     "text": [
      "MODALIDADE_ENSINO_BOLSA\n",
      "PRESENCIAL             112763\n",
      "EAD                     53817\n",
      "INTEGRAL_PRESENCIAL         1\n",
      "Name: count, dtype: int64\n"
     ]
    }
   ],
   "source": [
    "Modalidade = df['MODALIDADE_ENSINO_BOLSA'].value_counts()\n",
    "print(Modalidade)"
   ]
  },
  {
   "cell_type": "code",
   "execution_count": 22,
   "metadata": {},
   "outputs": [
    {
     "name": "stdout",
     "output_type": "stream",
     "text": [
      "NOME_CURSO_BOLSA\n",
      "DIREITO                                                                15046\n",
      "ADMINISTRAï¿½ï¿½O                                                      14864\n",
      "PEDAGOGIA                                                              13642\n",
      "ENFERMAGEM                                                              9190\n",
      "CIï¿½NCIAS CONTï¿½BEIS                                                  8562\n",
      "EDUCAï¿½ï¿½O Fï¿½SICA                                                   7597\n",
      "PSICOLOGIA                                                              7441\n",
      "GESTï¿½O DE RECURSOS HUMANOS                                            5574\n",
      "FISIOTERAPIA                                                            4582\n",
      "FARMï¿½CIA                                                              4048\n",
      "ENGENHARIA CIVIL                                                        4024\n",
      "ODONTOLOGIA                                                             3799\n",
      "NUTRIï¿½ï¿½O                                                            3537\n",
      "BIOMEDICINA                                                             3278\n",
      "ANï¿½LISE E DESENVOLVIMENTO DE SISTEMAS                                 3231\n",
      "MEDICINA VETERINï¿½RIA                                                  2816\n",
      "ARQUITETURA E URBANISMO                                                 2794\n",
      "SERVIï¿½O SOCIAL                                                        2629\n",
      "MEDICINA                                                                2468\n",
      "LOGï¿½STICA                                                             2333\n",
      "ENGENHARIA DE PRODUï¿½ï¿½O                                              2224\n",
      "ENGENHARIA MECï¿½NICA                                                   1902\n",
      "ESTï¿½TICA E COSMï¿½TICA                                                1883\n",
      "MARKETING                                                               1820\n",
      "PROCESSOS GERENCIAIS                                                    1660\n",
      "ENGENHARIA ELï¿½TRICA                                                   1638\n",
      "GESTï¿½O FINANCEIRA                                                     1462\n",
      "GESTï¿½O COMERCIAL                                                      1324\n",
      "SISTEMAS DE INFORMAï¿½ï¿½O                                              1315\n",
      "HISTï¿½RIA                                                              1134\n",
      "CIï¿½NCIAS BIOLï¿½GICAS                                                 1121\n",
      "COMUNICAï¿½ï¿½O SOCIAL - PUBLICIDADE E PROPAGANDA                       1103\n",
      "GASTRONOMIA                                                             1049\n",
      "CIï¿½NCIA DA COMPUTAï¿½ï¿½O                                             1013\n",
      "AGRONOMIA                                                               1010\n",
      "GESTï¿½O DA TECNOLOGIA DA INFORMAï¿½ï¿½O                                 936\n",
      "GESTï¿½O Pï¿½BLICA                                                       830\n",
      "RADIOLOGIA                                                               824\n",
      "CIï¿½NCIAS ECONï¿½MICAS                                                  794\n",
      "MATEMï¿½TICA                                                             748\n",
      "LETRAS - PORTUGUï¿½S E INGLï¿½S                                          719\n",
      "ENGENHARIA DE COMPUTAï¿½ï¿½O                                             683\n",
      "INVESTIGAï¿½ï¿½O FORENSE E PERï¿½CIA CRIMINAL                            634\n",
      "DESIGN GRï¿½FICO                                                         626\n",
      "JORNALISMO                                                               567\n",
      "RELAï¿½ï¿½ES INTERNACIONAIS                                              567\n",
      "ENGENHARIA QUï¿½MICA                                                     518\n",
      "GESTï¿½O AMBIENTAL                                                       451\n",
      "DESIGN DE INTERIORES                                                     434\n",
      "COMï¿½RCIO EXTERIOR                                                      433\n",
      "GESTï¿½O DA QUALIDADE                                                    418\n",
      "REDES DE COMPUTADORES                                                    417\n",
      "GESTï¿½O HOSPITALAR                                                      408\n",
      "FILOSOFIA                                                                385\n",
      "PUBLICIDADE E PROPAGANDA                                                 364\n",
      "SEGURANï¿½A NO TRABALHO                                                  361\n",
      "FONOAUDIOLOGIA                                                           342\n",
      "DESIGN                                                                   322\n",
      "GEOGRAFIA                                                                307\n",
      "ARTES VISUAIS                                                            306\n",
      "DESIGN DE MODA                                                           295\n",
      "TEOLOGIA                                                                 293\n",
      "QUï¿½MICA                                                                269\n",
      "JOGOS DIGITAIS                                                           261\n",
      "LETRAS - INGLï¿½S                                                        238\n",
      "SISTEMAS PARA INTERNET                                                   234\n",
      "ENGENHARIA DE CONTROLE E AUTOMAï¿½ï¿½O                                   229\n",
      "ENGENHARIA DE SOFTWARE                                                   225\n",
      "SISTEMA DE INFORMAï¿½ï¿½O                                                225\n",
      "COMUNICAï¿½ï¿½O SOCIAL - JORNALISMO                                      209\n",
      "GESTï¿½O DE SEGURANï¿½A PRIVADA                                          204\n",
      "ENGENHARIA AGRONï¿½MICA                                                  197\n",
      "ENGENHARIA AMBIENTAL                                                     197\n",
      "SEGURANï¿½A Pï¿½BLICA                                                    196\n",
      "LETRAS - Lï¿½NGUA PORTUGUESA                                             195\n",
      "RELAï¿½ï¿½ES Pï¿½BLICAS                                                  190\n",
      "PRODUï¿½ï¿½O AUDIOVISUAL                                                 186\n",
      "Mï¿½SICA                                                                 185\n",
      "LETRAS - PORTUGUï¿½S                                                     185\n",
      "PSICOPEDAGOGIA                                                           178\n",
      "LETRAS                                                                   169\n",
      "GESTï¿½O DA PRODUï¿½ï¿½O INDUSTRIAL                                      160\n",
      "Fï¿½SICA                                                                 153\n",
      "TURISMO                                                                  153\n",
      "LETRAS - LIBRAS                                                          143\n",
      "ENGENHARIA MECATRï¿½NICA                                                 138\n",
      "CIï¿½NCIAS DA COMPUTAï¿½ï¿½O                                             136\n",
      "ESTETICA                                                                 130\n",
      "ENGENHARIA AMBIENTAL E SANITï¿½RIA                                       127\n",
      "NEGï¿½CIOS IMOBILIï¿½RIOS                                                121\n",
      "AGRONEGï¿½CIO                                                            121\n",
      "CIï¿½NCIAS SOCIAIS                                                       107\n",
      "FOTOGRAFIA                                                               106\n",
      "BIBLIOTECONOMIA                                                           98\n",
      "MARKETING DIGITAL                                                         97\n",
      "BIOLOGIA                                                                  96\n",
      "CIï¿½NCIAS AERONï¿½UTICAS                                                 96\n",
      "GESTï¿½O DE SERVIï¿½OS JURï¿½DICOS E NOTARIAIS                            90\n",
      "TERAPIA OCUPACIONAL                                                       88\n",
      "SEGURANï¿½A DA INFORMAï¿½ï¿½O                                             85\n",
      "GESTï¿½O DE PRODUï¿½ï¿½O INDUSTRIAL                                       81\n",
      "SOCIOLOGIA                                                                79\n",
      "LETRAS - PORTUGUï¿½S E ESPANHOL                                           78\n",
      "Rï¿½DIO, TV E INTERNET                                                    76\n",
      "ENGENHARIA DA COMPUTAï¿½ï¿½O                                              68\n",
      "ZOOTECNIA                                                                 60\n",
      "EVENTOS                                                                   59\n",
      "SECRETARIADO                                                              58\n",
      "AVIAï¿½ï¿½O CIVIL                                                         57\n",
      "MODA                                                                      56\n",
      "BANCO DE DADOS                                                            55\n",
      "ENGENHARIA DE PRODUï¿½ï¿½O MECï¿½NICA                                     53\n",
      "HOTELARIA                                                                 51\n",
      "PROPAGANDA E MARKETING                                                    51\n",
      "CINEMA E AUDIOVISUAL                                                      50\n",
      "MECATRï¿½NICA INDUSTRIAL                                                  50\n",
      "AUTOMAï¿½ï¿½O INDUSTRIAL                                                  49\n",
      "ENGENHARIA BIOMEDICA                                                      48\n",
      "ENGENHARIA DE ALIMENTOS                                                   46\n",
      "GESTï¿½O DO AGRONEGï¿½CIO                                                 44\n",
      "PRODUï¿½ï¿½O FONOGRï¿½FICA                                                43\n",
      "GESTï¿½O DE TURISMO                                                       43\n",
      "DESIGN DE ANIMAï¿½ï¿½O                                                    41\n",
      "PRODUï¿½ï¿½O MULTIMï¿½DIA                                                 41\n",
      "PRODUï¿½ï¿½O PUBLICITï¿½RIA                                               39\n",
      "PODOLOGIA                                                                 38\n",
      "DESIGN DE GAMES                                                           38\n",
      "TEATRO                                                                    37\n",
      "DESIGN DIGITAL                                                            36\n",
      "CIï¿½NCIA POLï¿½TICA                                                      35\n",
      "GESTï¿½O PORTUï¿½RIA                                                      34\n",
      "ADMINISTRAï¿½ï¿½O Pï¿½BLICA                                               32\n",
      "COMUNICAï¿½ï¿½O SOCIAL                                                    32\n",
      "GESTï¿½O DE MARKETING EM Mï¿½DIAS DIGITAIS                                32\n",
      "ENGENHARIA AERONï¿½UTICA                                                  31\n",
      "ESTETICA E IMAGEM PESSOAL                                                 31\n",
      "COMPUTAï¿½ï¿½O                                                            31\n",
      "TERAPIAS INTEGRATIVAS E COMPLEMENTARES                                    31\n",
      "EDUCAï¿½ï¿½O ESPECIAL                                                     30\n",
      "DEFESA CIBERNETICA                                                        30\n",
      "SERVIï¿½OS JURï¿½DICOS E NOTARIAIS                                        29\n",
      "ENGENHARIA ELETRAMAZï¿½NIANICA E DE TELECOMUNICAï¿½ï¿½ES                  29\n",
      "BIG DATA E INTELIGï¿½NCIA ANALï¿½TICA                                     28\n",
      "COMUNICAï¿½ï¿½O SOCIAL - RADIO E TELEVISï¿½O                              28\n",
      "NATUROLOGIA                                                               27\n",
      "SEGURANï¿½A NO TRï¿½NSITO                                                 26\n",
      "CONSTRUï¿½ï¿½O DE EDIFï¿½CIOS                                             26\n",
      "TRADUTOR E INTERPRETE                                                     25\n",
      "INTERDISCIPLINAR EM NEGï¿½CIOS                                            24\n",
      "PROCESSOS QUï¿½MICOS                                                      23\n",
      "GESTï¿½O DA AVALIAï¿½ï¿½O                                                 22\n",
      "SECRETARIADO EXECUTIVO                                                    22\n",
      "CIï¿½NCIA ECONï¿½MICA                                                     21\n",
      "COMUNICAï¿½ï¿½O E MARKETING                                               20\n",
      "NEGï¿½CIOS INTERNACIONAIS                                                 20\n",
      "ENGENHARIA DE ENERGIA                                                     20\n",
      "ï¿½PTICA E OPTOMETRIA                                                     20\n",
      "CIï¿½NCIA DE DADOS                                                        20\n",
      "EMBELEZAMENTO E IMAGEM PESSOAL                                            20\n",
      "ENGENHARIA                                                                19\n",
      "GERONTOLOGIA                                                              19\n",
      "QUIROPRAXIA                                                               19\n",
      "ENGENHARIA AMBIENTAL E ENERGIAS RENOVï¿½VEIS                              19\n",
      "GESTï¿½O DE SAï¿½DE Pï¿½BLICA                                             17\n",
      "SERVIï¿½OS JURï¿½DICOS                                                    17\n",
      "VISAGISMO E TERAPIAS CAPILARES                                            16\n",
      "ARTES                                                                     16\n",
      "Mï¿½SICA - PRODUï¿½ï¿½O MUSICAL                                           15\n",
      "SECRETARIADO EXECUTIVO TRILï¿½NGUE                                        15\n",
      "NEGï¿½CIOS DA MODA                                                        15\n",
      "GESTï¿½O DE COOPERATIVAS                                                  15\n",
      "ENGENHARIA FLORESTAL                                                      14\n",
      "PILOTAGEM PROFISSIONAL DE AERONAVES                                       14\n",
      "AUDIOVISUAL                                                               14\n",
      "DESIGN DE PRODUTO                                                         14\n",
      "DANï¿½A                                                                   13\n",
      "SEGURANï¿½A ALIMENTAR                                                     13\n",
      "ENGENHARIA ELETRAMAZï¿½NIANICA                                            13\n",
      "ENGENHARIA AGRï¿½COLA E AMBIENTAL                                         12\n",
      "PLANEJAMENTO LOGï¿½STICO DE CARGAS                                        12\n",
      "COMUNICAï¿½ï¿½O INSTITUCIONAL                                             12\n",
      "LETRAS COM PORTUGUï¿½S E ESPANHOL                                         12\n",
      "PROCESSOS ESCOLARES                                                       12\n",
      "ELETRAMAZï¿½NIANICA INDUSTRIAL                                            12\n",
      "LETRAS PORTUGUï¿½S E INGLï¿½S                                             11\n",
      "COMUNICAï¿½ï¿½O SOCIAL - CINEMA E Mï¿½DIAS DIGITAIS                       11\n",
      "COMUNICAï¿½ï¿½O SOCIAL - CINEMA E AUDIOVISUAL                             11\n",
      "GESTï¿½O EXECUTIVA DE NEGï¿½CIOS                                          11\n",
      "ENGENHARIA INDUSTRIAL MECï¿½NICA                                          11\n",
      "ADMINISTRAï¿½ï¿½O DE EMPRESAS                                             11\n",
      "COMï¿½RCIO INTERNACIONAL                                                  11\n",
      "ENGENHARIA AUTOMOTIVA                                                     10\n",
      "GESTï¿½O DE SERVIï¿½OS JURï¿½DICOS, NOTARIAIS E DE REGISTRO               10\n",
      "PRODUï¿½ï¿½O CERVEJEIRA                                                   10\n",
      "CRIMINOLOGIA                                                              10\n",
      "COMUNICAï¿½ï¿½O SOCIAL - CINEMA                                           10\n",
      "GESTï¿½O DE SERVIï¿½OS JURï¿½DICOS                                         9\n",
      "TEOLOGIA: DOUTRINA CATï¿½LICA                                              9\n",
      "ENGENHARIA DE PETRï¿½LEO                                                   9\n",
      "MANUTENï¿½ï¿½O DE AERONAVES                                                9\n",
      "ENGENHARIA DE AUTOMAï¿½ï¿½O E CONTROLE                                     9\n",
      "COMUNICAï¿½ï¿½O SOCIAL - RELAï¿½ï¿½ES Pï¿½BLICAS                           9\n",
      "ESTATï¿½STICA                                                              8\n",
      "EMPREENDEDORISMO                                                           8\n",
      "ENGENHARIA DE BIOPROCESSOS E BIOTECNOLOGIA                                 8\n",
      "GESTï¿½O DE MARKETING                                                      8\n",
      "GERONTOLOGIA - CUIDADO AO IDOSO                                            8\n",
      "CIï¿½NCIAS BIOLï¿½GICAS - MODALIDADE MEDICA                                8\n",
      "Mï¿½DIAS DIGITAIS                                                          8\n",
      "CIï¿½NCIA DE DADOS E INTELIGï¿½NCIA ARTIFICIAL                             7\n",
      "COMUNICAï¿½ï¿½O E MULTIMEIOS                                               7\n",
      "DESIGN VISUAL                                                              7\n",
      "INVESTIGAï¿½ï¿½O PROFISSIONAL                                              7\n",
      "MUSEOLOGIA                                                                 7\n",
      "DESENHO INDUSTRIAL                                                         7\n",
      "SERVIï¿½OS JURï¿½DICOS, NOTARIAS E DE REGISTRO                             6\n",
      "ARTES Cï¿½NICAS                                                            6\n",
      "EDUCADOR SOCIAL                                                            6\n",
      "ENGENHARIA DE ROBAMAZï¿½NIAS                                               6\n",
      "CIï¿½NCIAS ATUARIAIS                                                       6\n",
      "BIOTECNOLOGIA                                                              6\n",
      "FUTEBOL                                                                    5\n",
      "MANUTENï¿½ï¿½O INDUSTRIAL                                                  5\n",
      "CRIAï¿½ï¿½O DIGITAL                                                        5\n",
      "ENGENHARIA AERONï¿½UTICA E ESPAï¿½O                                        5\n",
      "QUï¿½MICA INDUSTRIAL                                                       5\n",
      "BIG DATA E INTELIGï¿½NCIA ARTIFICIAL                                       5\n",
      "ENGENHARIA DE PETRï¿½LEO E Gï¿½S                                           4\n",
      "FARMï¿½CIA E BIOQUï¿½MICA                                                  4\n",
      "MARKETING E PUBLICIDADE                                                    4\n",
      "SEGURANï¿½A PRIVADA                                                        4\n",
      "MEDIAï¿½ï¿½O                                                               4\n",
      "SANEAMENTO AMBIENTAL                                                       4\n",
      "OPTOMETRIA                                                                 4\n",
      "ESTETICA E COSMETOLOGIA                                                    4\n",
      "AGROPECUï¿½RIA                                                             4\n",
      "Mï¿½SICA - INSTRUMENTO                                                     4\n",
      "MUSICOTERAPIA                                                              4\n",
      "INTERDISCIPLINAR EM CIï¿½NCIAS E HUMANIDADES - BI/LI                       4\n",
      "PETRï¿½LEO E Gï¿½S                                                         4\n",
      "SECRETARIADO EXECUTIVO - BILï¿½NGUE                                        4\n",
      "ARQUEOLOGIA                                                                4\n",
      "COMUNICAï¿½ï¿½O SOCIAL - COMUNICAï¿½ï¿½O DIGITAL                           3\n",
      "OFTï¿½LMICA                                                                3\n",
      "CIï¿½NCIAS SOCIOAMBIENTAIS                                                 3\n",
      "PRODUï¿½ï¿½O CULTURAL                                                      3\n",
      "EDUCAï¿½ï¿½O ARTï¿½STICA - Mï¿½SICA                                        3\n",
      "INTERDISCIPLINAR EM SAï¿½DE                                                3\n",
      "LETRAS - ESPANHOL                                                          3\n",
      "REFRIGERAï¿½ï¿½O E CLIMATIZAï¿½ï¿½O                                        3\n",
      "EDUCAï¿½ï¿½O ARTï¿½STICA                                                   3\n",
      "TRADUï¿½ï¿½O E INTERPRETAï¿½ï¿½O - PORTUGUï¿½S/INGLï¿½S                    3\n",
      "CIï¿½NCIAS DA RELIGIï¿½O - ENSINO RELIGIOSO                                3\n",
      "ENGENHARIA DE MATERIAIS                                                    3\n",
      "COZINHA CONTEMPORï¿½NEA                                                    3\n",
      "COMUNICAï¿½ï¿½O SOCIAL - HABILITAï¿½ï¿½O REALIZAï¿½ï¿½O AUDIOVISUAL        3\n",
      "ANï¿½LISE E DESENVOLVIMENTO DE SISTEMAS INTERNET                           3\n",
      "ENGENHARIA DE MINAS                                                        3\n",
      "CIï¿½NCIAS AMBIENTAIS                                                      2\n",
      "SISTEMAS BIOMEDICOS                                                        2\n",
      "LETRAS - TRADUï¿½ï¿½O INGLï¿½S E PORTUGUï¿½S                               2\n",
      "CAFEICULTURA                                                               2\n",
      "COMUNICAï¿½ï¿½O DAS ARTES DO CORPO                                         2\n",
      "LETRAS - TRADUTOR E INTERPRETE                                             2\n",
      "ONTOPSICOLOGIA                                                             2\n",
      "ENGENHARIA CARTOGRï¿½FICA E DE AGRIMENSURA                                 2\n",
      "JORNALISMO DIGITAL                                                         2\n",
      "ESCRITA CRIATIVA                                                           2\n",
      "GESTï¿½O DE SERVIï¿½OS JUDICIï¿½RIOS E NOTARIAIS                           2\n",
      "COACHING                                                                   2\n",
      "CIï¿½NCIAS DA RELIGIï¿½O                                                   2\n",
      "PRODUï¿½ï¿½O DE CACAU E CHOCOLATE                                          2\n",
      "Mï¿½SICA - CORDAS                                                          2\n",
      "GESTï¿½O DESPORTIVA E DE LAZER                                             2\n",
      "ENGENHARIA DE AGRONEGï¿½CIOS                                               2\n",
      "BIOCOMBUSTï¿½VEIS                                                          2\n",
      "SERVIï¿½OS REGISTRAIS E NOTARIAIS                                          2\n",
      "Fï¿½SICA MEDICA                                                            2\n",
      "Mï¿½SICA - CANTO                                                           2\n",
      "GESTï¿½O DE AGRONEGï¿½CIOS                                                 2\n",
      "ANï¿½LISE DE DADOS                                                         2\n",
      "LETRAS - PORTUGUï¿½S E JAPONï¿½S                                           2\n",
      "GESTï¿½O E EMPREENDEDORISMO                                                2\n",
      "LETRAS - PORTUGUï¿½S E ALEMï¿½O                                            2\n",
      "ENGENHARIA DE ENERGIAS                                                     2\n",
      "QUï¿½MICA TECNOLï¿½GICA                                                    2\n",
      "DESENVOLVIMENTO DE SISTEMAS                                                2\n",
      "FABRICAï¿½ï¿½O MECï¿½NICA                                                  1\n",
      "LETRAS - Lï¿½NGUA INGLESA E RESPECTIVAS LITERATURAS                        1\n",
      "SERVIï¿½OS JUDICIAIS                                                       1\n",
      "SECRETARIADO EXECUTIVO BILINGUE - PORTUGUï¿½S/INGLï¿½S                     1\n",
      "Mï¿½SICA - REGï¿½NCIA                                                      1\n",
      "SOLDAGEM                                                                   1\n",
      "ENGENHARIA CIVIL E AMBIENTAL                                               1\n",
      "Mï¿½SICA - Mï¿½SICA POPULAR BRASILEIRA                                     1\n",
      "AQUICULTURA                                                                1\n",
      "LETRAS - Lï¿½NGUA INGLESA                                                  1\n",
      "GESTï¿½O DE EQUINOCULTURA                                                  1\n",
      "INFORMï¿½TICA                                                              1\n",
      "TECNï¿½LOGO EM METALURGIA                                                  1\n",
      "ENGENHARIA DE PESCA                                                        1\n",
      "COMUNICAï¿½ï¿½O SOCIAL - PRODUï¿½ï¿½O EDITORIAL                            1\n",
      "GESTï¿½O EM SAï¿½DE AMBIENTAL                                              1\n",
      "MINISTERIO PASTORAL                                                        1\n",
      "TRADUï¿½ï¿½O E INTERPRETAï¿½ï¿½O                                           1\n",
      "ARTES E Mï¿½DIAS DIGITAIS                                                  1\n",
      "GESTï¿½O DE NEGï¿½CIOS E INOVAï¿½ï¿½O                                      1\n",
      "COACHING E DESENVOLVIMENTO HUMANO                                          1\n",
      "PROCESSOS METALï¿½RGICOS                                                   1\n",
      "ACUPUNTURA                                                                 1\n",
      "NEGï¿½CIOS DIGITAIS                                                        1\n",
      "GESTï¿½O EM LOGï¿½STICA                                                    1\n",
      "GESTï¿½O EM VIGILï¿½NCIA EM SAï¿½DE                                        1\n",
      "COMPUTAï¿½ï¿½O GRï¿½FICA                                                   1\n",
      "Name: count, dtype: int64\n"
     ]
    }
   ],
   "source": [
    "Curso = df['NOME_CURSO_BOLSA'].value_counts()\n",
    "pd.set_option('display.max_rows', None)\n",
    "print(Curso)"
   ]
  },
  {
   "cell_type": "code",
   "execution_count": 23,
   "metadata": {},
   "outputs": [
    {
     "name": "stdout",
     "output_type": "stream",
     "text": [
      "NOME_TURNO_CURSO_BOLSA\n",
      "NOTURNO                75154\n",
      "CURSO A DISTï¿½NCIA    53817\n",
      "MATUTINO               28085\n",
      "INTEGRAL                5920\n",
      "VESPERTINO              3605\n",
      "Name: count, dtype: int64\n"
     ]
    }
   ],
   "source": [
    "Turno_Curso = df['NOME_TURNO_CURSO_BOLSA'].value_counts()\n",
    "print(Turno_Curso)"
   ]
  },
  {
   "cell_type": "code",
   "execution_count": 25,
   "metadata": {},
   "outputs": [
    {
     "name": "stdout",
     "output_type": "stream",
     "text": [
      "SEXO_BENEFICIARIO\n",
      "F    100982\n",
      "M     65599\n",
      "Name: count, dtype: int64\n"
     ]
    }
   ],
   "source": [
    "Sexo_Beneficiario = df['SEXO_BENEFICIARIO'].value_counts()\n",
    "print(Sexo_Beneficiario)"
   ]
  },
  {
   "cell_type": "code",
   "execution_count": 27,
   "metadata": {},
   "outputs": [
    {
     "name": "stdout",
     "output_type": "stream",
     "text": [
      "RACA_BENEFICIARIO\n",
      "Parda              77942\n",
      "Branca             64388\n",
      "Preta              21133\n",
      "Amarela             2892\n",
      "Indï¿½gena           153\n",
      "Nï¿½o Informada       73\n",
      "Name: count, dtype: int64\n"
     ]
    }
   ],
   "source": [
    "Raca = df['RACA_BENEFICIARIO'].value_counts()\n",
    "print(Raca)"
   ]
  },
  {
   "cell_type": "code",
   "execution_count": 28,
   "metadata": {},
   "outputs": [
    {
     "name": "stdout",
     "output_type": "stream",
     "text": [
      "BENEFICIARIO_DEFICIENTE_FISICO\n",
      "N    165310\n",
      "S      1271\n",
      "Name: count, dtype: int64\n"
     ]
    }
   ],
   "source": [
    "Pessoa_Com_Deficiencia = df['BENEFICIARIO_DEFICIENTE_FISICO'].value_counts()\n",
    "print(Pessoa_Com_Deficiencia)"
   ]
  },
  {
   "cell_type": "code",
   "execution_count": 31,
   "metadata": {},
   "outputs": [
    {
     "name": "stdout",
     "output_type": "stream",
     "text": [
      "REGIAO_BENEFICIARIO\n",
      "SUDESTE         71604\n",
      "NORDESTE        39202\n",
      "SUL             26291\n",
      "NORTE           16234\n",
      "CENTRO-OESTE    13250\n",
      "Name: count, dtype: int64\n"
     ]
    }
   ],
   "source": [
    "Regiao = df['REGIAO_BENEFICIARIO'].value_counts()\n",
    "print(Regiao)"
   ]
  },
  {
   "cell_type": "code",
   "execution_count": 56,
   "metadata": {},
   "outputs": [
    {
     "name": "stdout",
     "output_type": "stream",
     "text": [
      "UF_BENEFICIARIO\n",
      "SP    40356\n",
      "MG    18921\n",
      "RS    11478\n",
      "BA    10252\n",
      "PR     9838\n",
      "RJ     8488\n",
      "CE     6961\n",
      "PE     6708\n",
      "GO     6092\n",
      "MA     6066\n",
      "PA     5882\n",
      "SC     4975\n",
      "ES     3839\n",
      "DF     3695\n",
      "AM     3531\n",
      "RO     2753\n",
      "PB     2746\n",
      "PI     1987\n",
      "MT     1852\n",
      "RN     1809\n",
      "MS     1611\n",
      "TO     1457\n",
      "AL     1387\n",
      "AC     1379\n",
      "SE     1286\n",
      "AP      811\n",
      "RR      421\n",
      "Name: count, dtype: int64\n"
     ]
    }
   ],
   "source": [
    "Estado = df['UF_BENEFICIARIO'].value_counts()\n",
    "print(Estado)"
   ]
  },
  {
   "cell_type": "code",
   "execution_count": 57,
   "metadata": {},
   "outputs": [],
   "source": [
    "chunks = pd.read_csv('pda-prouni-2010.csv', encoding='latin1', sep=';', chunksize=1000, on_bad_lines='skip')\n",
    "df = pd.concat(chunks, ignore_index=True)"
   ]
  },
  {
   "cell_type": "code",
   "execution_count": 58,
   "metadata": {},
   "outputs": [
    {
     "data": {
      "text/plain": [
       "Index(['ANO_CONCESSAO_BOLSA', 'CODIGO_EMEC_IES_BOLSA', 'NOME_IES_BOLSA',\n",
       "       'TIPO_BOLSA', 'MODALIDADE_ENSINO_BOLSA', 'NOME_CURSO_BOLSA',\n",
       "       'NOME_TURNO_CURSO_BOLSA', 'CPF_BENEFICIARIO_BOLSA',\n",
       "       'SEXO_BENEFICIARIO_BOLSA', 'RACA_BENEFICIARIO_BOLSA',\n",
       "       'DT_NASCIMENTO_BENEFICIARIO', 'BENEFICIARIO_DEFICIENTE_FISICO',\n",
       "       'REGIAO_BENEFICIARIO_BOLSA', 'SIGLA_UF_BENEFICIARIO_BOLSA',\n",
       "       'MUNICIPIO_BENEFICIARIO_BOLSA'],\n",
       "      dtype='object')"
      ]
     },
     "execution_count": 58,
     "metadata": {},
     "output_type": "execute_result"
    }
   ],
   "source": [
    "df.columns"
   ]
  },
  {
   "cell_type": "code",
   "execution_count": 41,
   "metadata": {},
   "outputs": [
    {
     "name": "stdout",
     "output_type": "stream",
     "text": [
      "TIPO_BOLSA\n",
      "BOLSA INTEGRAL       95611\n",
      "BOLSA PARCIAL 50%    56096\n",
      "Name: count, dtype: int64\n"
     ]
    }
   ],
   "source": [
    "Tipo_Bolsa_2010 = df['TIPO_BOLSA'].value_counts()\n",
    "print(Tipo_Bolsa_2010)"
   ]
  },
  {
   "cell_type": "code",
   "execution_count": 42,
   "metadata": {},
   "outputs": [
    {
     "name": "stdout",
     "output_type": "stream",
     "text": [
      "MODALIDADE_ENSINO_BOLSA\n",
      "PRESENCIAL                    130440\n",
      "EDUCAï¿½ï¿½O A DISTï¿½NCIA     21267\n",
      "Name: count, dtype: int64\n"
     ]
    }
   ],
   "source": [
    "Modalidade_2010 = df['MODALIDADE_ENSINO_BOLSA'].value_counts()\n",
    "print(Modalidade_2010)"
   ]
  },
  {
   "cell_type": "code",
   "execution_count": 43,
   "metadata": {},
   "outputs": [
    {
     "name": "stdout",
     "output_type": "stream",
     "text": [
      "NOME_CURSO_BOLSA\n",
      "Administraï¿½ï¿½o                                                               25846\n",
      "Direito                                                                         13517\n",
      "Pedagogia                                                                       12462\n",
      "Ciï¿½ncias Contï¿½beis                                                           8605\n",
      "Enfermagem                                                                       5610\n",
      "Gestï¿½o De Recursos Humanos                                                     4227\n",
      "Psicologia                                                                       4145\n",
      "Educaï¿½ï¿½o Fï¿½sica                                                            3693\n",
      "Serviï¿½o Social                                                                 3373\n",
      "Fisioterapia                                                                     2926\n",
      "Farmï¿½cia                                                                       2630\n",
      "Logï¿½stica                                                                      2485\n",
      "Engenharia De Produï¿½ï¿½o                                                       2082\n",
      "Engenharia Civil                                                                 2065\n",
      "Marketing                                                                        1976\n",
      "Ciï¿½ncias Biolï¿½gicas                                                          1962\n",
      "Sistemas De Informaï¿½ï¿½o                                                       1933\n",
      "Nutriï¿½ï¿½o                                                                     1723\n",
      "Anï¿½lise E Desenvolvimento De Sistemas                                          1703\n",
      "Processos Gerenciais                                                             1685\n",
      "Arquitetura E Urbanismo                                                          1605\n",
      "Ciï¿½ncia Da Computaï¿½ï¿½o                                                      1599\n",
      "Comunicaï¿½ï¿½o Social - Publicidade E Propaganda                                1525\n",
      "Gestï¿½o Ambiental                                                               1447\n",
      "Histï¿½ria                                                                       1383\n",
      "Engenharia Elï¿½trica                                                            1337\n",
      "Gestï¿½o Financeira                                                              1274\n",
      "Engenharia Mecï¿½nica                                                            1201\n",
      "Letras - Inglï¿½s                                                                1103\n",
      "Biomedicina                                                                      1062\n",
      "Redes De Computadores                                                            1002\n",
      "Comunicaï¿½ï¿½o Social                                                            969\n",
      "Odontologia                                                                       963\n",
      "Medicina                                                                          958\n",
      "Matemï¿½tica                                                                      903\n",
      "Medicina Veterinï¿½ria                                                            858\n",
      "Turismo                                                                           829\n",
      "Letras - Portuguï¿½s E Inglï¿½s                                                   823\n",
      "Engenharia De Controle E Automaï¿½ï¿½o                                            814\n",
      "Ciï¿½ncias Econï¿½micas                                                           813\n",
      "Jornalismo                                                                        706\n",
      "Sistema De Informaï¿½ï¿½o                                                         690\n",
      "Geografia                                                                         679\n",
      "Gestï¿½o Comercial                                                                672\n",
      "Agronomia                                                                         546\n",
      "Letras                                                                            520\n",
      "Engenharia Ambiental E Sanitï¿½ria                                                503\n",
      "Gestï¿½o Da Tecnologia Da Informaï¿½ï¿½o                                          498\n",
      "Gastronomia                                                                       498\n",
      "Quï¿½mica                                                                         491\n",
      "Publicidade E Propaganda                                                          480\n",
      "Engenharia De Produï¿½ï¿½o Mecï¿½nica                                             471\n",
      "Design De Moda                                                                    456\n",
      "Estï¿½tica E Cosmï¿½tica                                                          446\n",
      "Engenharia Ambiental                                                              432\n",
      "Relaï¿½ï¿½es Internacionais                                                       425\n",
      "Gestï¿½o Da Produï¿½ï¿½o Industrial                                               411\n",
      "Design                                                                            396\n",
      "Radiologia                                                                        394\n",
      "Engenharia                                                                        392\n",
      "Letras - Lï¿½ngua Portuguesa                                                      357\n",
      "Sistemas Para Internet                                                            357\n",
      "Comunicaï¿½ï¿½o Social - Jornalismo                                               355\n",
      "Engenharia De Computaï¿½ï¿½o                                                      354\n",
      "Design Grï¿½fico                                                                  353\n",
      "Comï¿½rcio Exterior                                                               337\n",
      "Engenharia Quï¿½mica                                                              334\n",
      "Seguranï¿½a No Trabalho                                                           329\n",
      "Gestï¿½o Pï¿½blica                                                                305\n",
      "Design De Interiores                                                              303\n",
      "Letras - Portuguï¿½s                                                              293\n",
      "Automaï¿½ï¿½o Industrial                                                          292\n",
      "Gestï¿½o De Sistemas De Informaï¿½ï¿½o                                            278\n",
      "Biologia                                                                          278\n",
      "Letras - Espanhol                                                                 268\n",
      "Fonoaudiologia                                                                    263\n",
      "Hotelaria                                                                         260\n",
      "Filosofia                                                                         259\n",
      "Teologia                                                                          250\n",
      "Petrï¿½leo E Gï¿½s                                                                249\n",
      "Gestï¿½o Da Qualidade                                                             247\n",
      "Agronegï¿½cio                                                                     236\n",
      "Artes Visuais                                                                     215\n",
      "Gestï¿½o Hospitalar                                                               214\n",
      "Secretariado                                                                      211\n",
      "Secretariado Executivo                                                            205\n",
      "Relaï¿½ï¿½es Pï¿½blicas                                                           199\n",
      "Administraï¿½ï¿½o De Recursos Humanos                                             197\n",
      "Letras - Portuguï¿½s E Espanhol                                                   194\n",
      "Mecatrï¿½nica Industrial                                                          169\n",
      "Negï¿½cios Imobiliï¿½rios                                                         160\n",
      "Moda                                                                              119\n",
      "Gestï¿½o De Turismo                                                               113\n",
      "Mï¿½sica                                                                          108\n",
      "Farmï¿½cia E Bioquï¿½mica                                                         106\n",
      "Engenharia De Petrï¿½leo                                                          106\n",
      "Fï¿½sica                                                                           97\n",
      "Desenho Industrial                                                                 97\n",
      "Comunicaï¿½ï¿½o Social - Relaï¿½ï¿½es Pï¿½blicas                                   95\n",
      "Jogos Digitais                                                                     93\n",
      "Engenharia Mecatrï¿½nica                                                           85\n",
      "Gestï¿½o De Pessoas                                                                85\n",
      "Banco De Dados                                                                     83\n",
      "Engenharia Eletrï¿½nica                                                            82\n",
      "Engenharia Da Computaï¿½ï¿½o                                                       74\n",
      "Produï¿½ï¿½o Audiovisual                                                           73\n",
      "Produï¿½ï¿½o Sucroalcooleira                                                       73\n",
      "Produï¿½ï¿½o Multimï¿½dia                                                          72\n",
      "Propaganda E Marketing                                                             71\n",
      "Ciï¿½ncias Sociais                                                                 71\n",
      "Engenharia De Alimentos                                                            70\n",
      "Artes                                                                              68\n",
      "Fotografia                                                                         66\n",
      "Eventos                                                                            66\n",
      "Fabricaï¿½ï¿½o Mecï¿½nica                                                          64\n",
      "Produï¿½ï¿½o Publicitï¿½ria                                                        62\n",
      "Zootecnia                                                                          62\n",
      "Computaï¿½ï¿½o                                                                     58\n",
      "Construï¿½ï¿½o De Edifï¿½cios                                                      58\n",
      "Secretariado Executivo Trilï¿½ngue                                                 54\n",
      "Terapia Ocupacional                                                                53\n",
      "Secretariado Executivo Bilï¿½ngue                                                  53\n",
      "Gestï¿½o De Seguranï¿½a Privada                                                    53\n",
      "Design De Produto                                                                  52\n",
      "Processamento De Dados                                                             52\n",
      "Engenharia De Petrï¿½leo E Gï¿½s                                                   50\n",
      "Educaï¿½ï¿½o Artï¿½stica                                                           49\n",
      "Engenharia De Materiais                                                            49\n",
      "Engenharia Eletrï¿½nica E De Telecomunicaï¿½ï¿½es                                  48\n",
      "Pilotagem Profissional De Aeronaves                                                47\n",
      "Letras - Portuguï¿½s E Inglï¿½s E Respectivas Literaturas                          44\n",
      "Engenharia Com Habilitaï¿½ï¿½o Em Engenharia Mecï¿½nica                            43\n",
      "Manutenï¿½ï¿½o Industrial                                                          41\n",
      "Design Digital                                                                     40\n",
      "Engenharia De Telecomunicaï¿½ï¿½es                                                 39\n",
      "Seguranï¿½a Da Informaï¿½ï¿½o                                                      39\n",
      "Gestï¿½o Portuï¿½ria                                                               38\n",
      "Ciï¿½ncias Biolï¿½gicas                                                            37\n",
      "Manutenï¿½ï¿½o De Aeronaves                                                        36\n",
      "Letras - Tradutor E Intï¿½rprete                                                   36\n",
      "Administraï¿½ï¿½o - Anï¿½lise De Sistemas                                          36\n",
      "Engenharia Florestal                                                               36\n",
      "Eletrotï¿½cnica Industrial                                                         35\n",
      "Educaï¿½ao Fï¿½sica                                                                35\n",
      "Gestï¿½o De Qualidade Em Metrologia                                                35\n",
      "Produï¿½ï¿½o Fonogrï¿½fica                                                         34\n",
      "Comunicaï¿½ï¿½o Social - Radialismo (Rï¿½dio E Tv)                                 34\n",
      "Comï¿½rcio Internacional                                                           33\n",
      "Quï¿½mica Industrial                                                               33\n",
      "Engenharia De Minas                                                                33\n",
      "Gestï¿½o De Recursos Hï¿½dricos                                                    31\n",
      "Biotecnologia                                                                      31\n",
      "Engenharia De Energia                                                              31\n",
      "Comunicaï¿½ï¿½o Social - Produï¿½ï¿½o Editorial                                    30\n",
      "Normal  Superior                                                                   29\n",
      "Alimentos                                                                          29\n",
      "Aviaï¿½ï¿½o Civil                                                                  27\n",
      "Engenharia Agronï¿½mica                                                            26\n",
      "Ciï¿½ncias Aeronï¿½uticas                                                          26\n",
      "Sociologia                                                                         24\n",
      "Comunicaï¿½ï¿½o Assistiva                                                          24\n",
      "Planejamento Estratï¿½gico Empresarial                                             24\n",
      "Ciï¿½ncias Atuariais                                                               24\n",
      "Produï¿½ï¿½o De Petrï¿½leo E Gï¿½s                                                 23\n",
      "Gestï¿½o Desportiva E De Lazer                                                     23\n",
      "Estï¿½tica                                                                         23\n",
      "Estï¿½tica E Imagem Pessoal                                                        23\n",
      "Gestï¿½o De Negï¿½cios                                                             22\n",
      "Sistemas De Telecomunicaï¿½ï¿½es                                                   21\n",
      "Gestï¿½o Empreendedora                                                             21\n",
      "Gestï¿½o Financeira E Controladoria Empresarial                                    21\n",
      "Recursos Humanos Estratï¿½gicos                                                    21\n",
      "Seguranï¿½a E Ordem Pï¿½blica                                                      21\n",
      "Gestï¿½o De Varejo                                                                 20\n",
      "Processos Quï¿½micos                                                               20\n",
      "Negï¿½cios Da Moda                                                                 19\n",
      "Informï¿½tica                                                                      19\n",
      "Gestï¿½o Em Gastronomia E Alimentaï¿½ï¿½o                                          18\n",
      "Gestï¿½o Bancï¿½ria                                                                17\n",
      "Desenho Industrial - Projeto Do Produto                                            17\n",
      "Audiovisual                                                                        17\n",
      "Engenharia Industrial Mecï¿½nica                                                   17\n",
      "Teatro                                                                             16\n",
      "Gestï¿½o De Micro E Pequenas Empresas                                              16\n",
      "Bioenergia                                                                         16\n",
      "Eletrï¿½nica Industrial                                                            16\n",
      "Comunicaï¿½ï¿½o Das Artes Do Corpo                                                 16\n",
      "Geologia                                                                           16\n",
      "Biblioteconomia                                                                    16\n",
      "Comunicaï¿½ï¿½o Institucional                                                      16\n",
      "Quï¿½mica Ambiental                                                                15\n",
      "Ciï¿½ncias Biolï¿½gicas - Modalidade Mï¿½dica                                      15\n",
      "Gerenciamento De Redes De Computadores                                             15\n",
      "Redes De Telecomunicaï¿½ï¿½es                                                      14\n",
      "Ciï¿½ncia Polï¿½tica                                                               14\n",
      "Marketing Estratï¿½gico                                                            14\n",
      "Gestï¿½o Executiva De Negï¿½cios                                                   14\n",
      "Engenharia Metalï¿½rgica                                                           14\n",
      "Engenharia Elï¿½trica E Eletrï¿½nica                                               13\n",
      "Gestï¿½o Estratï¿½gica De Vendas                                                   13\n",
      "Design De Games                                                                    13\n",
      "Letras Portuguï¿½s E Inglï¿½s                                                      13\n",
      "Gestï¿½o De Seguranï¿½a Pï¿½blica                                                  13\n",
      "Planejamento Logï¿½stico De Cargas                                                 13\n",
      "Gestï¿½o De Marketing                                                              13\n",
      "Comunicaï¿½ï¿½o Social - Comunicaï¿½ï¿½o Mercadolï¿½gica                           13\n",
      "Ciï¿½ncia Econï¿½mica                                                              13\n",
      "Gestï¿½o Empresarial                                                               12\n",
      "Estï¿½tica E Cosmetologia                                                          12\n",
      "Gestï¿½o De Produï¿½ï¿½o                                                           12\n",
      "Cinema E Audiovisual                                                               12\n",
      "Turismo E Hotelaria                                                                11\n",
      "Sistemas Automotivos                                                               11\n",
      "Seguranï¿½a Privada                                                                11\n",
      "Tecnologia E Mï¿½dias Digitais                                                     11\n",
      "Naturologia Aplicada                                                               11\n",
      "Construï¿½ï¿½o Naval                                                               11\n",
      "Artes Cï¿½nicas                                                                    11\n",
      "Comunicaï¿½ï¿½o E Multimeios                                                       11\n",
      "ï¿½ptica E Optometria                                                              11\n",
      "Letras Com Portuguï¿½s E Espanhol                                                  10\n",
      "Letras - Lï¿½ngua Inglesa                                                          10\n",
      "Gestï¿½o Empresarial E Controladoria                                               10\n",
      "Web Design E Programaï¿½ï¿½o                                                       10\n",
      "Administraï¿½ï¿½o Pï¿½blica                                                        10\n",
      "Comunicaï¿½ï¿½o E Marketing                                                        10\n",
      "Danï¿½a                                                                            10\n",
      "Ortï¿½ptica                                                                        10\n",
      "Gestï¿½o Comercial - Contact Center                                                 9\n",
      "Marketing E Propaganda                                                              9\n",
      "Visagismo E Terapia Capilar                                                         9\n",
      "Anï¿½lise Gerencial                                                                 9\n",
      "Cosmetologia E Estï¿½stica                                                          9\n",
      "Gestï¿½o De Negï¿½cios Securitï¿½rios                                               9\n",
      "Podologia                                                                           9\n",
      "Ciï¿½ncias                                                                          9\n",
      "Engenharia De Automaï¿½ï¿½o E Controle                                              9\n",
      "Gestï¿½o De Suprimentos E Logï¿½stica                                               9\n",
      "Quiropraxia                                                                         9\n",
      "Gestï¿½o De Call Center                                                             9\n",
      "Gestï¿½o De Logistica                                                               8\n",
      "Engenharia De Agrimensura                                                           8\n",
      "Cosmï¿½ticos                                                                        8\n",
      "Letras Portuguï¿½s E Espanhol E Respectivas Literaturas                             8\n",
      "Negï¿½cios Internacionais                                                           8\n",
      "Gestï¿½o De Equinocultura                                                           8\n",
      "Gestï¿½o De Cooperativas                                                            8\n",
      "Gestï¿½o Mercadolï¿½gica                                                            8\n",
      "Comunicaï¿½ï¿½o Social - Comunicaï¿½ï¿½o Digital                                    8\n",
      "Estilismo                                                                           8\n",
      "Engenharia De Seguranï¿½a No Trabalho                                               7\n",
      "Comunicaï¿½ï¿½o Social - Radio E Televisï¿½o                                        7\n",
      "Gestï¿½o De Seguros E Previdï¿½ncia                                                 7\n",
      "Sistemas Da Qualidade E De Gestï¿½o Ambiental                                       7\n",
      "Tecnologias Digitais                                                                7\n",
      "Desenho Industrial - Programaï¿½ï¿½o Visual                                         7\n",
      "Comunicaï¿½ï¿½o Social - Cinema E Mï¿½dias Digitais                                 7\n",
      "Ciï¿½ncias Da Informaï¿½ï¿½o                                                        7\n",
      "Gerï¿½ncia De Marketing E Vendas                                                    7\n",
      "Gestï¿½o Estratï¿½gica Do Setor Pï¿½blico                                           7\n",
      "Ciï¿½ncias Farmacï¿½uticas                                                          7\n",
      "Fï¿½sica Mï¿½dica                                                                   6\n",
      "Gestï¿½o Estratï¿½gica De Pessoas                                                   6\n",
      "Decoraï¿½ï¿½o & Design                                                              6\n",
      "Ecologia                                                                            6\n",
      "Engenharia De Produï¿½ï¿½o E Qualidade                                              6\n",
      "Comunicaï¿½ï¿½o Em Computaï¿½ï¿½o Grï¿½fica                                         6\n",
      "Sistemas Elï¿½tricos                                                                6\n",
      "Qualidade                                                                           6\n",
      "Letras - Tradutor                                                                   6\n",
      "Gestï¿½o De Ambientes Internet E Redes De Computadores                              6\n",
      "Gestï¿½o De Serviï¿½os E Comï¿½rcio                                                 6\n",
      "Engenharia Eletrotï¿½cnica                                                          6\n",
      "Ciï¿½ncias Da Religiï¿½o                                                            6\n",
      "Engenharia Bioenergï¿½tica                                                          6\n",
      "Engenharia De Produï¿½ï¿½o Quï¿½mica                                                6\n",
      "Gestï¿½o De Seguros                                                                 6\n",
      "Polï¿½meros                                                                         6\n",
      "Meio Ambiente                                                                       6\n",
      "Engenharia Aeronï¿½utica E Espaï¿½o                                                 6\n",
      "Desenvolvimento De Sistemas                                                         6\n",
      "Tradutor E Intï¿½rprete                                                             5\n",
      "Transporte Aï¿½reo                                                                  5\n",
      "Desenho Industrial - Design Digital                                                 5\n",
      "Enfermagem E Obstetrï¿½cia                                                          5\n",
      "Produï¿½ï¿½o Agrï¿½cola                                                             5\n",
      "Quï¿½mica Tecnolï¿½gica                                                             5\n",
      "Gestï¿½o Em Tecnologia Da Informaï¿½ï¿½o                                            5\n",
      "Web Design                                                                          5\n",
      "Comunicaï¿½ï¿½o Digital                                                             5\n",
      "Comunicaï¿½ï¿½o Social - Produï¿½ï¿½o Editorial E Multimï¿½dia                      5\n",
      "Letras - Francï¿½s                                                                  5\n",
      "Comunicaï¿½ï¿½o Social -Radialismo - Produï¿½ï¿½o Em Mï¿½dia Audiovisual            5\n",
      "Ciï¿½ncias - Quï¿½mica                                                              4\n",
      "Recursos Humanos                                                                    4\n",
      "Desenvolvimento De Software                                                         4\n",
      "Letras - Lï¿½ngua Francesa                                                          4\n",
      "Engenharia De Energias Renovï¿½veis E Ambiente                                      4\n",
      "Engenharia Civil E Ambiental                                                        4\n",
      "Comunicaï¿½ï¿½o Em Criaï¿½ï¿½o E Desenvolvimento De Web Sites E Design              4\n",
      "Audiovisual - Criaï¿½ï¿½o E Produï¿½ï¿½o                                            4\n",
      "Oceanografia                                                                        4\n",
      "Mï¿½sica - Instrumento                                                              4\n",
      "Biotecnologia Industrial                                                            3\n",
      "Gestï¿½o De Marketing Empresarial                                                   3\n",
      "Gestï¿½o Do Meio Ambiente                                                           3\n",
      "Psicopedagogia Clï¿½nica E Institucional                                            3\n",
      "Mecï¿½nica                                                                          3\n",
      "Tradutor Em Inglï¿½s                                                                3\n",
      "Engenharia Aeronï¿½utica                                                            3\n",
      "Curso Superior De Formaï¿½ï¿½o Especï¿½fica Em Controladoria E Finanï¿½as           3\n",
      "Computaï¿½ï¿½o E Informï¿½tica                                                      3\n",
      "Processos Metalï¿½rgicos                                                            3\n",
      "Seguranï¿½a Do Trabalho                                                             3\n",
      "Comunicaï¿½ï¿½o Social Com Habilitaï¿½ï¿½o Em Publicidade E Propaganda              3\n",
      "Rochas Ornamentais                                                                  3\n",
      "Cinema                                                                              3\n",
      "Engenharia Biomï¿½dica                                                              3\n",
      "Turismo Receptivo                                                                   2\n",
      "Psicomotricidade                                                                    2\n",
      "Engenharia De Automaï¿½ï¿½o E Sistemas                                              2\n",
      "Comunicaï¿½ï¿½o Empresarial E Estratï¿½gias Em Eventos                              2\n",
      "Ciï¿½ncias Polï¿½ticas                                                              2\n",
      "Administraï¿½ï¿½o Legislativa                                                       2\n",
      "Cosmetologia E Estï¿½tica                                                           2\n",
      "Seguranï¿½a Pï¿½blica                                                               2\n",
      "Naturologia                                                                         2\n",
      "Desenvolvimento Para Web                                                            2\n",
      "Comunicaï¿½ï¿½o Social - Fotografia                                                 2\n",
      "Gestï¿½o De Vendas                                                                  2\n",
      "Gestï¿½o De Pessoas Em Organizaï¿½ï¿½es Pï¿½blicas                                  2\n",
      "Gestï¿½o Administrativa                                                             2\n",
      "Letras - Traduï¿½ï¿½o Portuguï¿½s E Inglï¿½s                                        2\n",
      "Radialismo                                                                          2\n",
      "Gestï¿½o De Serviï¿½os Em Atendimento                                               2\n",
      "Produtores E Mï¿½sicos De Rock                                                      2\n",
      "Conservaï¿½ï¿½o E Restauro                                                          2\n",
      "Multimï¿½dia Digital                                                                2\n",
      "Informï¿½tica Empresarial                                                           2\n",
      "Comï¿½rcio Exterior E Negï¿½cios Internacionais                                     2\n",
      "Engenharia Agrï¿½cola                                                               2\n",
      "Traduï¿½ï¿½o E Interpretaï¿½ï¿½o                                                    1\n",
      "Gestï¿½o De Terminais Portuï¿½rios                                                  1\n",
      "Gestï¿½o De Pequenas E Mï¿½dias Empresas                                            1\n",
      "Letras - Portuguï¿½s E Alemï¿½o                                                     1\n",
      "Comunicaï¿½ï¿½o Social - Habilitaï¿½ï¿½o Realizaï¿½ï¿½o Audiovisual                 1\n",
      "Psicopedagogia                                                                      1\n",
      "Saneamento Ambiental                                                                1\n",
      "Anï¿½lise De Sistemas                                                               1\n",
      "Engenharia Mecï¿½nica Automotiva                                                    1\n",
      "Letras - Portuguï¿½s E Literaturas De Lï¿½ngua Portuguesa                           1\n",
      "Publicidade E Propaganda - Publicidade E Propaganda                                 1\n",
      "Telemï¿½tica                                                                        1\n",
      "Design De Carnaval                                                                  1\n",
      "Gestï¿½o De Seguranï¿½a Pessoal E Patrimonial                                       1\n",
      "Letras - Inglï¿½s - Lï¿½nguas Portuguesa E Inglesa E Respectivas Literaturas        1\n",
      "Estudos Sociais - Histï¿½ria                                                        1\n",
      "Arqueologia                                                                         1\n",
      "Gestï¿½o De Empresas De Varejo                                                      1\n",
      "Name: count, dtype: int64\n"
     ]
    }
   ],
   "source": [
    "Curso_2010 = df['NOME_CURSO_BOLSA'].value_counts()\n",
    "pd.set_option('display.max_rows', None)\n",
    "print(Curso_2010)\n"
   ]
  },
  {
   "cell_type": "code",
   "execution_count": 44,
   "metadata": {},
   "outputs": [
    {
     "name": "stdout",
     "output_type": "stream",
     "text": [
      "NOME_TURNO_CURSO_BOLSA\n",
      "Noturno                96693\n",
      "Matutino               26536\n",
      "Curso a distï¿½ncia    21267\n",
      "Integral                4560\n",
      "Vespertino              2651\n",
      "Name: count, dtype: int64\n"
     ]
    }
   ],
   "source": [
    "Turno_Curso_2010 = df['NOME_TURNO_CURSO_BOLSA'].value_counts()\n",
    "print(Turno_Curso_2010)"
   ]
  },
  {
   "cell_type": "code",
   "execution_count": 45,
   "metadata": {},
   "outputs": [
    {
     "name": "stdout",
     "output_type": "stream",
     "text": [
      "SEXO_BENEFICIARIO_BOLSA\n",
      "Feminino     87758\n",
      "Masculino    63949\n",
      "Name: count, dtype: int64\n"
     ]
    }
   ],
   "source": [
    "Sexo_Beneficiario_2010 = df['SEXO_BENEFICIARIO_BOLSA'].value_counts()\n",
    "print(Sexo_Beneficiario_2010)"
   ]
  },
  {
   "cell_type": "code",
   "execution_count": 46,
   "metadata": {},
   "outputs": [
    {
     "name": "stdout",
     "output_type": "stream",
     "text": [
      "RACA_BENEFICIARIO_BOLSA\n",
      "Branca             72540\n",
      "Parda              57467\n",
      "Preta              19049\n",
      "Amarela             2525\n",
      "Indï¿½gena           116\n",
      "Nï¿½o Informada       10\n",
      "Name: count, dtype: int64\n"
     ]
    }
   ],
   "source": [
    "Raca_2010 = df['RACA_BENEFICIARIO_BOLSA'].value_counts()\n",
    "print(Raca_2010)"
   ]
  },
  {
   "cell_type": "code",
   "execution_count": 47,
   "metadata": {},
   "outputs": [
    {
     "name": "stdout",
     "output_type": "stream",
     "text": [
      "BENEFICIARIO_DEFICIENTE_FISICO\n",
      "Nï¿½O    150785\n",
      "SIM         922\n",
      "Name: count, dtype: int64\n"
     ]
    }
   ],
   "source": [
    "Pessoa_Com_Deficiencia_2010 = df['BENEFICIARIO_DEFICIENTE_FISICO'].value_counts()\n",
    "print(Pessoa_Com_Deficiencia_2010)"
   ]
  },
  {
   "cell_type": "code",
   "execution_count": 48,
   "metadata": {},
   "outputs": [
    {
     "name": "stdout",
     "output_type": "stream",
     "text": [
      "REGIAO_BENEFICIARIO_BOLSA\n",
      "SUDESTE         75838\n",
      "SUL             27639\n",
      "NORDESTE        24666\n",
      "CENTRO-OESTE    15463\n",
      "NORTE            8101\n",
      "Name: count, dtype: int64\n"
     ]
    }
   ],
   "source": [
    "Regiao_2010 = df['REGIAO_BENEFICIARIO_BOLSA'].value_counts()\n",
    "print(Regiao_2010)"
   ]
  },
  {
   "cell_type": "code",
   "execution_count": 59,
   "metadata": {},
   "outputs": [
    {
     "name": "stdout",
     "output_type": "stream",
     "text": [
      "SIGLA_UF_BENEFICIARIO_BOLSA\n",
      "SP    46659\n",
      "MG    19202\n",
      "RS    12121\n",
      "PR    11430\n",
      "BA     9462\n",
      "RJ     7780\n",
      "GO     5356\n",
      "SC     4088\n",
      "DF     3450\n",
      "MS     3402\n",
      "MT     3255\n",
      "MA     2913\n",
      "PE     2813\n",
      "AM     2694\n",
      "PA     2665\n",
      "RN     2641\n",
      "CE     2238\n",
      "ES     2197\n",
      "PI     1296\n",
      "RO     1285\n",
      "SE     1275\n",
      "PB     1259\n",
      "AL      769\n",
      "AC      489\n",
      "TO      462\n",
      "RR      265\n",
      "AP      241\n",
      "Name: count, dtype: int64\n"
     ]
    }
   ],
   "source": [
    "Estado_2010 = df['SIGLA_UF_BENEFICIARIO_BOLSA'].value_counts()\n",
    "print(Estado_2010)"
   ]
  }
 ],
 "metadata": {
  "kernelspec": {
   "display_name": "Python 3",
   "language": "python",
   "name": "python3"
  },
  "language_info": {
   "codemirror_mode": {
    "name": "ipython",
    "version": 3
   },
   "file_extension": ".py",
   "mimetype": "text/x-python",
   "name": "python",
   "nbconvert_exporter": "python",
   "pygments_lexer": "ipython3",
   "version": "3.12.4"
  }
 },
 "nbformat": 4,
 "nbformat_minor": 2
}
